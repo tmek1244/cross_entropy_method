{
 "cells": [
  {
   "cell_type": "code",
   "execution_count": 13,
   "metadata": {},
   "outputs": [
    {
     "name": "stdout",
     "output_type": "stream",
     "text": [
      "The autoreload extension is already loaded. To reload it, use:\n",
      "  %reload_ext autoreload\n"
     ]
    }
   ],
   "source": [
    "%load_ext autoreload\n",
    "%autoreload 2"
   ]
  },
  {
   "cell_type": "code",
   "execution_count": 14,
   "metadata": {},
   "outputs": [],
   "source": [
    "from QAOA.QAOA_problems.Knapsack import Knapsack, QAOA_Knapsack\n",
    "from QAOA.optimizers.CEM import CEM\n",
    "from QAOA.optimizers.qml_gradient_descent import QmlGradientDescent\n",
    "# from QAOA.problem_solver import ProblemSolver\n",
    "\n",
    "import pennylane as qml\n",
    "import numpy as np"
   ]
  },
  {
   "cell_type": "code",
   "execution_count": 15,
   "metadata": {},
   "outputs": [],
   "source": [
    "knapsack = Knapsack(max_weight=2)\n",
    "knapsack.set_knapsack([(2, 2), (3, 1)])"
   ]
  },
  {
   "cell_type": "code",
   "execution_count": 16,
   "metadata": {},
   "outputs": [],
   "source": [
    "knapsack_qaoa = QAOA_Knapsack(\n",
    "    knapsack, \n",
    "    # layers=3\n",
    "    # number_of_layers=2, \n",
    "    # optimization_steps=200, \n",
    "    # optimizer=qml.AdagradOptimizer(stepsize=0.50)\n",
    "    # optimizer=qml.GradientDescentOptimizer(stepsize=0.01)\n",
    ")"
   ]
  },
  {
   "cell_type": "code",
   "execution_count": 17,
   "metadata": {},
   "outputs": [],
   "source": [
    "from QAOA.solvers.QAOA.core import QAOA"
   ]
  },
  {
   "cell_type": "code",
   "execution_count": 19,
   "metadata": {},
   "outputs": [
    {
     "name": "stdout",
     "output_type": "stream",
     "text": [
      "Epoch 1\tAverage Elite Score: -8.313891179461944\tAverage Score: -3.1493344058374406\n",
      "[4. 1.] with reward: -11.347786134195324\n",
      "Epoch 2\tAverage Elite Score: -10.736965804802685\tAverage Score: -8.030752565069468\n",
      "[4.05286468 1.72751396] with reward: -11.611957741362348\n",
      "Epoch 3\tAverage Elite Score: -12.214388486979917\tAverage Score: -10.73934540313213\n",
      "[ 3.93640386 -2.19851774] with reward: -13.481315342896522\n",
      "Epoch 4\tAverage Elite Score: -13.948478844274607\tAverage Score: -12.271614995590502\n",
      "[ 3.95309964 -3.8118732 ] with reward: -14.835810478667392\n",
      "Epoch 5\tAverage Elite Score: -15.444309762938653\tAverage Score: -13.790108051719109\n",
      "[ 3.93661796 -4.54081925] with reward: -15.893717959256655\n",
      "Epoch 6\tAverage Elite Score: -16.143584113041634\tAverage Score: -15.379252646449812\n",
      "[ 3.93661796 -4.54081925] with reward: -16.258945833568582\n",
      "Epoch 7\tAverage Elite Score: -16.367454440307625\tAverage Score: -16.054403572270093\n",
      "[ 3.95334223 -4.65799203] with reward: -16.407568989048357\n",
      "Epoch 8\tAverage Elite Score: -16.493716320041113\tAverage Score: -16.289107528434776\n",
      "[ 3.91685417 -4.88498975] with reward: -16.54406368730192\n"
     ]
    }
   ],
   "source": [
    "solver = QAOA(\n",
    "    problem=knapsack_qaoa,\n",
    "    platform=\"pennylane\",\n",
    "    optimizer=QmlGradientDescent(100, qml.AdamOptimizer(stepsize=0.05)),\n",
    "    layers=3,\n",
    "    angles=[[0.5]*3, [0.5]*3],\n",
    "    # mixer: str=,\n",
    "    weights=[4, 1],\n",
    "    hyperoptimizer=CEM(10, 100),\n",
    "    # backend=\n",
    ")\n",
    "solver.solve()"
   ]
  },
  {
   "cell_type": "code",
   "execution_count": null,
   "metadata": {},
   "outputs": [],
   "source": []
  }
 ],
 "metadata": {
  "kernelspec": {
   "display_name": "Python 3.10.6 ('venv': venv)",
   "language": "python",
   "name": "python3"
  },
  "language_info": {
   "codemirror_mode": {
    "name": "ipython",
    "version": 3
   },
   "file_extension": ".py",
   "mimetype": "text/x-python",
   "name": "python",
   "nbconvert_exporter": "python",
   "pygments_lexer": "ipython3",
   "version": "3.10.6"
  },
  "orig_nbformat": 4,
  "vscode": {
   "interpreter": {
    "hash": "194d560554aca00f6e3bce42e1e7e246ef0a295a71f2572582018ad7f70a5cdf"
   }
  }
 },
 "nbformat": 4,
 "nbformat_minor": 2
}
