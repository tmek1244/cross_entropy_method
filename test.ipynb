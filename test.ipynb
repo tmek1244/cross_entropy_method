{
 "cells": [
  {
   "cell_type": "code",
   "execution_count": 1,
   "metadata": {},
   "outputs": [],
   "source": [
    "%load_ext autoreload\n",
    "%autoreload 2"
   ]
  },
  {
   "cell_type": "code",
   "execution_count": 2,
   "metadata": {},
   "outputs": [],
   "source": [
    "from CEM_optimizer.Knapsack import Knapsack, QAOA_Knapsack\n",
    "from CEM_optimizer.CEM import CEM\n",
    "\n",
    "import pennylane as qml\n",
    "\n",
    "import numpy as np\n",
    "\n",
    "from qiskit.algorithms.optimizers import ESCH\n"
   ]
  },
  {
   "cell_type": "code",
   "execution_count": 99,
   "metadata": {},
   "outputs": [],
   "source": [
    "knapsack = Knapsack(max_weight=2)\n",
    "knapsack.set_knapsack([(2, 2), (3, 1)])"
   ]
  },
  {
   "cell_type": "code",
   "execution_count": 100,
   "metadata": {},
   "outputs": [],
   "source": [
    "knapsack_qaoa = QAOA_Knapsack(\n",
    "    knapsack, number_of_layers=2, \n",
    "    optimization_steps=200, \n",
    "    optimizer=qml.GradientDescentOptimizer(stepsize=0.01)\n",
    "    # optimizer=qml.AdagradOptimizer(stepsize=0.01)\n",
    "    # optimizer=qml.AdamOptimizer(\n",
    "    #     stepsize=0.01,\n",
    "    #     beta1=0.9,\n",
    "    #     beta2=0.99\n",
    "    # )\n",
    ")"
   ]
  },
  {
   "cell_type": "code",
   "execution_count": 104,
   "metadata": {},
   "outputs": [
    {
     "name": "stdout",
     "output_type": "stream",
     "text": [
      "Key: 1001 with probability 0.24616883288012167   | correct: True, value: 2\n",
      "Key: 0110 with probability 0.15578820048498881   | correct: False\n",
      "Key: 0000 with probability 0.09975017506945434   | correct: True, value: 0\n",
      "Key: 1011 with probability 0.08856578413407351   | correct: False\n",
      "Key: 1111 with probability 0.08830639695712159   | correct: False\n",
      "Key: 1010 with probability 0.07089756286913027   | correct: False\n",
      "Key: 1000 with probability 0.07006084689550511   | correct: False\n",
      "Key: 0010 with probability 0.052828796908053824   | correct: False\n",
      "Key: 0001 with probability 0.044869458410535315   | correct: False\n",
      "Key: 0111 with probability 0.02978030089440978   | correct: False\n",
      "Key: 0100 with probability 0.01872296348665832   | correct: False\n",
      "Key: 1110 with probability 0.012744068989254348   | correct: False\n",
      "Key: 1100 with probability 0.008414932931200641   | correct: False\n",
      "Key: 1101 with probability 0.008232383211321899   | correct: False\n",
      "Key: 0011 with probability 0.0037457996129512685   | correct: False\n",
      "Key: 0101 with probability 0.001123496265216267   | correct: False\n"
     ]
    }
   ],
   "source": [
    "# knapsack_qaoa.print_results([4.479034058634472, 2.0651955807903093])\n",
    "# knapsack_qaoa.print_results([4.5692211156699365, 2.2241936378999614])\n",
    "knapsack_qaoa.print_results([0.40741604795471, 2.1311175186109237])"
   ]
  },
  {
   "cell_type": "code",
   "execution_count": 102,
   "metadata": {},
   "outputs": [
    {
     "name": "stdout",
     "output_type": "stream",
     "text": [
      "Key: 1001 with probability 0.2361983290697672   | correct: True, value: 2\n",
      "Key: 0110 with probability 0.1429007463779347   | correct: False\n",
      "Key: 0101 with probability 0.08251797839853817   | correct: False\n",
      "Key: 0010 with probability 0.08101058021843523   | correct: False\n",
      "Key: 1111 with probability 0.07283696477181824   | correct: False\n",
      "Key: 1101 with probability 0.06141571608391848   | correct: False\n",
      "Key: 1110 with probability 0.061397709797646284   | correct: False\n",
      "Key: 0001 with probability 0.05985800983644145   | correct: False\n",
      "Key: 1010 with probability 0.05552677836252057   | correct: False\n",
      "Key: 1000 with probability 0.04281433202639918   | correct: False\n",
      "Key: 0100 with probability 0.0303002648694304   | correct: False\n",
      "Key: 0000 with probability 0.0242907665726733   | correct: True, value: 0\n",
      "Key: 1011 with probability 0.01833753108287013   | correct: False\n",
      "Key: 0011 with probability 0.01688215300030868   | correct: False\n",
      "Key: 1100 with probability 0.011188947529703638   | correct: False\n",
      "Key: 0111 with probability 0.002523192001590699   | correct: False\n"
     ]
    }
   ],
   "source": [
    "knapsack_qaoa.print_results([2.0345243512510995, 2.942750372594455])"
   ]
  },
  {
   "cell_type": "code",
   "execution_count": 106,
   "metadata": {},
   "outputs": [
    {
     "name": "stdout",
     "output_type": "stream",
     "text": [
      "Key: 1001 with probability 0.34771872501066653   | correct: True, value: 2\n",
      "Key: 1010 with probability 0.12854907549717304   | correct: False\n",
      "Key: 0001 with probability 0.11747494553652454   | correct: False\n",
      "Key: 0011 with probability 0.10376837675830675   | correct: False\n",
      "Key: 0000 with probability 0.08435006929698177   | correct: True, value: 0\n",
      "Key: 1011 with probability 0.06163696153277033   | correct: False\n",
      "Key: 0010 with probability 0.05612801309170231   | correct: False\n",
      "Key: 0110 with probability 0.031044575600558   | correct: False\n",
      "Key: 0101 with probability 0.01487569387866082   | correct: False\n",
      "Key: 1101 with probability 0.014159386206871573   | correct: False\n",
      "Key: 0100 with probability 0.012389138652445624   | correct: False\n",
      "Key: 1111 with probability 0.007761445900811639   | correct: False\n",
      "Key: 1000 with probability 0.0070883100984045115   | correct: False\n",
      "Key: 1100 with probability 0.00695442884809345   | correct: False\n",
      "Key: 1110 with probability 0.0050652298138707166   | correct: False\n",
      "Key: 0111 with probability 0.001035624276154245   | correct: False\n"
     ]
    }
   ],
   "source": [
    "# knapsack_qaoa.print_results([1.3219896814835312, 5.4516316516592855])\n",
    "knapsack_qaoa.print_results([-4.575296603491294, -0.9036316684903625])"
   ]
  },
  {
   "cell_type": "code",
   "execution_count": 6,
   "metadata": {},
   "outputs": [
    {
     "name": "stdout",
     "output_type": "stream",
     "text": [
      "Key: 111 with probability 0.4620441212741079   | correct: False\n",
      "Key: 011 with probability 0.40575441335681606   | correct: True, value: 1\n",
      "Key: 101 with probability 0.09373257394723947   | correct: True, value: 2\n",
      "Key: 100 with probability 0.023106599943526984   | correct: False\n",
      "Key: 001 with probability 0.013878764160501137   | correct: False\n",
      "Key: 110 with probability 0.0009989555043133209   | correct: False\n",
      "Key: 000 with probability 0.0003394301218017867   | correct: True, value: 0\n",
      "Key: 010 with probability 0.00014514169169114457   | correct: False\n"
     ]
    }
   ],
   "source": [
    "np.random.seed(333)\n",
    "knapsack_qaoa.print_results([4.479034058634472, 2.06519558079030932])"
   ]
  },
  {
   "cell_type": "code",
   "execution_count": null,
   "metadata": {},
   "outputs": [],
   "source": [
    "cem = CEM(\n",
    "    problem=knapsack_qaoa,\n",
    "    epochs=10,\n",
    "    samples_per_epoch=100,\n",
    "    elite_frac=0.1,\n",
    "    process=6\n",
    ")\n",
    "\n",
    "cem.randomize(init_weights=[1, 1])"
   ]
  },
  {
   "cell_type": "code",
   "execution_count": 17,
   "metadata": {},
   "outputs": [
    {
     "ename": "KeyboardInterrupt",
     "evalue": "",
     "output_type": "error",
     "traceback": [
      "\u001b[0;31m---------------------------------------------------------------------------\u001b[0m",
      "\u001b[0;31mKeyboardInterrupt\u001b[0m                         Traceback (most recent call last)",
      "\u001b[1;32m/home/tmek1244/cyfronet/cross_entropy_method/test.ipynb Cell 8\u001b[0m in \u001b[0;36m<cell line: 2>\u001b[0;34m()\u001b[0m\n\u001b[1;32m      <a href='vscode-notebook-cell:/home/tmek1244/cyfronet/cross_entropy_method/test.ipynb#W6sZmlsZQ%3D%3D?line=0'>1</a>\u001b[0m qaoa \u001b[39m=\u001b[39m ESCH(max_evals\u001b[39m=\u001b[39m\u001b[39m200\u001b[39m)\n\u001b[0;32m----> <a href='vscode-notebook-cell:/home/tmek1244/cyfronet/cross_entropy_method/test.ipynb#W6sZmlsZQ%3D%3D?line=1'>2</a>\u001b[0m qaoa\u001b[39m.\u001b[39;49mminimize(knapsack_qaoa\u001b[39m.\u001b[39;49mrun_learning_n_get_results, [\u001b[39m1\u001b[39;49m, \u001b[39m1\u001b[39;49m])\n",
      "File \u001b[0;32m~/cyfronet/cross_entropy_method/venv/lib/python3.10/site-packages/qiskit/algorithms/optimizers/nlopts/nloptimizer.py:122\u001b[0m, in \u001b[0;36mNLoptOptimizer.minimize\u001b[0;34m(self, fun, x0, jac, bounds)\u001b[0m\n\u001b[1;32m    119\u001b[0m opt\u001b[39m.\u001b[39mset_min_objective(wrap_objfunc_global)\n\u001b[1;32m    120\u001b[0m opt\u001b[39m.\u001b[39mset_maxeval(\u001b[39mself\u001b[39m\u001b[39m.\u001b[39m_options\u001b[39m.\u001b[39mget(\u001b[39m\"\u001b[39m\u001b[39mmax_evals\u001b[39m\u001b[39m\"\u001b[39m, \u001b[39m1000\u001b[39m))\n\u001b[0;32m--> 122\u001b[0m xopt \u001b[39m=\u001b[39m opt\u001b[39m.\u001b[39;49moptimize(x0)\n\u001b[1;32m    123\u001b[0m minf \u001b[39m=\u001b[39m opt\u001b[39m.\u001b[39mlast_optimum_value()\n\u001b[1;32m    125\u001b[0m logger\u001b[39m.\u001b[39mdebug(\u001b[39m\"\u001b[39m\u001b[39mGlobal minimize found \u001b[39m\u001b[39m%s\u001b[39;00m\u001b[39m eval count \u001b[39m\u001b[39m%s\u001b[39;00m\u001b[39m\"\u001b[39m, minf, eval_count)\n",
      "File \u001b[0;32m~/cyfronet/cross_entropy_method/venv/lib/python3.10/site-packages/nlopt/nlopt.py:335\u001b[0m, in \u001b[0;36mopt.optimize\u001b[0;34m(self, *args)\u001b[0m\n\u001b[1;32m    334\u001b[0m \u001b[39mdef\u001b[39;00m \u001b[39moptimize\u001b[39m(\u001b[39mself\u001b[39m, \u001b[39m*\u001b[39margs):\n\u001b[0;32m--> 335\u001b[0m     \u001b[39mreturn\u001b[39;00m _nlopt\u001b[39m.\u001b[39;49mopt_optimize(\u001b[39mself\u001b[39;49m, \u001b[39m*\u001b[39;49margs)\n",
      "File \u001b[0;32m~/cyfronet/cross_entropy_method/venv/lib/python3.10/site-packages/qiskit/algorithms/optimizers/nlopts/nloptimizer.py:117\u001b[0m, in \u001b[0;36mNLoptOptimizer.minimize.<locals>.wrap_objfunc_global\u001b[0;34m(x, _grad)\u001b[0m\n\u001b[1;32m    115\u001b[0m \u001b[39mnonlocal\u001b[39;00m eval_count\n\u001b[1;32m    116\u001b[0m eval_count \u001b[39m+\u001b[39m\u001b[39m=\u001b[39m \u001b[39m1\u001b[39m\n\u001b[0;32m--> 117\u001b[0m \u001b[39mreturn\u001b[39;00m fun(x)\n",
      "File \u001b[0;32m~/cyfronet/cross_entropy_method/CEM_optimizer/problem.py:69\u001b[0m, in \u001b[0;36mProblem.run_learning_n_get_results\u001b[0;34m(self, p)\u001b[0m\n\u001b[1;32m     67\u001b[0m \u001b[39mdef\u001b[39;00m \u001b[39mrun_learning_n_get_results\u001b[39m(\u001b[39mself\u001b[39m, p):\n\u001b[1;32m     68\u001b[0m     p \u001b[39m=\u001b[39m [\u001b[39mfloat\u001b[39m(x) \u001b[39mfor\u001b[39;00m x \u001b[39min\u001b[39;00m p]\n\u001b[0;32m---> 69\u001b[0m     probs \u001b[39m=\u001b[39m \u001b[39mself\u001b[39;49m\u001b[39m.\u001b[39;49m_run_learning(p)\n\u001b[1;32m     70\u001b[0m     \u001b[39mreturn\u001b[39;00m \u001b[39mfloat\u001b[39m(\u001b[39mself\u001b[39m\u001b[39m.\u001b[39m_check_results(probs))\n",
      "File \u001b[0;32m~/cyfronet/cross_entropy_method/CEM_optimizer/problem.py:56\u001b[0m, in \u001b[0;36mProblem._run_learning\u001b[0;34m(self, parameters)\u001b[0m\n\u001b[1;32m     50\u001b[0m params \u001b[39m=\u001b[39m np\u001b[39m.\u001b[39marray(\n\u001b[1;32m     51\u001b[0m     [[\u001b[39m0.5\u001b[39m]\u001b[39m*\u001b[39m\u001b[39mself\u001b[39m\u001b[39m.\u001b[39mnumber_of_layers, [\u001b[39m0.5\u001b[39m]\u001b[39m*\u001b[39m\u001b[39mself\u001b[39m\u001b[39m.\u001b[39mnumber_of_layers], \n\u001b[1;32m     52\u001b[0m     requires_grad\u001b[39m=\u001b[39m\u001b[39mTrue\u001b[39;00m\n\u001b[1;32m     53\u001b[0m )\n\u001b[1;32m     55\u001b[0m \u001b[39mfor\u001b[39;00m _ \u001b[39min\u001b[39;00m \u001b[39mrange\u001b[39m(steps):\n\u001b[0;32m---> 56\u001b[0m     params \u001b[39m=\u001b[39m \u001b[39mself\u001b[39;49m\u001b[39m.\u001b[39;49moptimizer\u001b[39m.\u001b[39;49mstep(cost_function, params)\n\u001b[1;32m     58\u001b[0m \u001b[39m@qml\u001b[39m\u001b[39m.\u001b[39mqnode(\u001b[39mself\u001b[39m\u001b[39m.\u001b[39mdev)\n\u001b[1;32m     59\u001b[0m \u001b[39mdef\u001b[39;00m \u001b[39mprobability_circuit\u001b[39m(params):\n\u001b[1;32m     60\u001b[0m     circuit(params)\n",
      "File \u001b[0;32m~/cyfronet/cross_entropy_method/venv/lib/python3.10/site-packages/pennylane/optimize/gradient_descent.py:88\u001b[0m, in \u001b[0;36mGradientDescentOptimizer.step\u001b[0;34m(self, objective_fn, grad_fn, *args, **kwargs)\u001b[0m\n\u001b[1;32m     70\u001b[0m \u001b[39mdef\u001b[39;00m \u001b[39mstep\u001b[39m(\u001b[39mself\u001b[39m, objective_fn, \u001b[39m*\u001b[39margs, grad_fn\u001b[39m=\u001b[39m\u001b[39mNone\u001b[39;00m, \u001b[39m*\u001b[39m\u001b[39m*\u001b[39mkwargs):\n\u001b[1;32m     71\u001b[0m     \u001b[39m\"\"\"Update trainable arguments with one step of the optimizer.\u001b[39;00m\n\u001b[1;32m     72\u001b[0m \n\u001b[1;32m     73\u001b[0m \u001b[39m    Args:\u001b[39;00m\n\u001b[0;32m   (...)\u001b[0m\n\u001b[1;32m     85\u001b[0m \u001b[39m        If single arg is provided, list [array] is replaced by array.\u001b[39;00m\n\u001b[1;32m     86\u001b[0m \u001b[39m    \"\"\"\u001b[39;00m\n\u001b[0;32m---> 88\u001b[0m     g, _ \u001b[39m=\u001b[39m \u001b[39mself\u001b[39;49m\u001b[39m.\u001b[39;49mcompute_grad(objective_fn, args, kwargs, grad_fn\u001b[39m=\u001b[39;49mgrad_fn)\n\u001b[1;32m     89\u001b[0m     new_args \u001b[39m=\u001b[39m \u001b[39mself\u001b[39m\u001b[39m.\u001b[39mapply_grad(g, args)\n\u001b[1;32m     91\u001b[0m     \u001b[39m# unwrap from list if one argument, cleaner return\u001b[39;00m\n",
      "File \u001b[0;32m~/cyfronet/cross_entropy_method/venv/lib/python3.10/site-packages/pennylane/optimize/gradient_descent.py:117\u001b[0m, in \u001b[0;36mGradientDescentOptimizer.compute_grad\u001b[0;34m(objective_fn, args, kwargs, grad_fn)\u001b[0m\n\u001b[1;32m     99\u001b[0m \u001b[39mr\u001b[39m\u001b[39m\"\"\"Compute gradient of the objective function at the given point and return it along with\u001b[39;00m\n\u001b[1;32m    100\u001b[0m \u001b[39mthe objective function forward pass (if available).\u001b[39;00m\n\u001b[1;32m    101\u001b[0m \n\u001b[0;32m   (...)\u001b[0m\n\u001b[1;32m    114\u001b[0m \u001b[39m    will not be evaluted and instead ``None`` will be returned.\u001b[39;00m\n\u001b[1;32m    115\u001b[0m \u001b[39m\"\"\"\u001b[39;00m\n\u001b[1;32m    116\u001b[0m g \u001b[39m=\u001b[39m get_gradient(objective_fn) \u001b[39mif\u001b[39;00m grad_fn \u001b[39mis\u001b[39;00m \u001b[39mNone\u001b[39;00m \u001b[39melse\u001b[39;00m grad_fn\n\u001b[0;32m--> 117\u001b[0m grad \u001b[39m=\u001b[39m g(\u001b[39m*\u001b[39;49margs, \u001b[39m*\u001b[39;49m\u001b[39m*\u001b[39;49mkwargs)\n\u001b[1;32m    118\u001b[0m forward \u001b[39m=\u001b[39m \u001b[39mgetattr\u001b[39m(g, \u001b[39m\"\u001b[39m\u001b[39mforward\u001b[39m\u001b[39m\"\u001b[39m, \u001b[39mNone\u001b[39;00m)\n\u001b[1;32m    120\u001b[0m num_trainable_args \u001b[39m=\u001b[39m \u001b[39msum\u001b[39m(\u001b[39mgetattr\u001b[39m(arg, \u001b[39m\"\u001b[39m\u001b[39mrequires_grad\u001b[39m\u001b[39m\"\u001b[39m, \u001b[39mFalse\u001b[39;00m) \u001b[39mfor\u001b[39;00m arg \u001b[39min\u001b[39;00m args)\n",
      "File \u001b[0;32m~/cyfronet/cross_entropy_method/venv/lib/python3.10/site-packages/pennylane/_grad.py:115\u001b[0m, in \u001b[0;36mgrad.__call__\u001b[0;34m(self, *args, **kwargs)\u001b[0m\n\u001b[1;32m    112\u001b[0m     \u001b[39mself\u001b[39m\u001b[39m.\u001b[39m_forward \u001b[39m=\u001b[39m \u001b[39mself\u001b[39m\u001b[39m.\u001b[39m_fun(\u001b[39m*\u001b[39margs, \u001b[39m*\u001b[39m\u001b[39m*\u001b[39mkwargs)\n\u001b[1;32m    113\u001b[0m     \u001b[39mreturn\u001b[39;00m ()\n\u001b[0;32m--> 115\u001b[0m grad_value, ans \u001b[39m=\u001b[39m grad_fn(\u001b[39m*\u001b[39;49margs, \u001b[39m*\u001b[39;49m\u001b[39m*\u001b[39;49mkwargs)\n\u001b[1;32m    116\u001b[0m \u001b[39mself\u001b[39m\u001b[39m.\u001b[39m_forward \u001b[39m=\u001b[39m ans\n\u001b[1;32m    118\u001b[0m \u001b[39mreturn\u001b[39;00m grad_value\n",
      "File \u001b[0;32m~/cyfronet/cross_entropy_method/venv/lib/python3.10/site-packages/autograd/wrap_util.py:20\u001b[0m, in \u001b[0;36munary_to_nary.<locals>.nary_operator.<locals>.nary_f\u001b[0;34m(*args, **kwargs)\u001b[0m\n\u001b[1;32m     18\u001b[0m \u001b[39melse\u001b[39;00m:\n\u001b[1;32m     19\u001b[0m     x \u001b[39m=\u001b[39m \u001b[39mtuple\u001b[39m(args[i] \u001b[39mfor\u001b[39;00m i \u001b[39min\u001b[39;00m argnum)\n\u001b[0;32m---> 20\u001b[0m \u001b[39mreturn\u001b[39;00m unary_operator(unary_f, x, \u001b[39m*\u001b[39;49mnary_op_args, \u001b[39m*\u001b[39;49m\u001b[39m*\u001b[39;49mnary_op_kwargs)\n",
      "File \u001b[0;32m~/cyfronet/cross_entropy_method/venv/lib/python3.10/site-packages/pennylane/_grad.py:133\u001b[0m, in \u001b[0;36mgrad._grad_with_forward\u001b[0;34m(fun, x)\u001b[0m\n\u001b[1;32m    127\u001b[0m \u001b[39m@staticmethod\u001b[39m\n\u001b[1;32m    128\u001b[0m \u001b[39m@unary_to_nary\u001b[39m\n\u001b[1;32m    129\u001b[0m \u001b[39mdef\u001b[39;00m \u001b[39m_grad_with_forward\u001b[39m(fun, x):\n\u001b[1;32m    130\u001b[0m     \u001b[39m\"\"\"This function is a replica of ``autograd.grad``, with the only\u001b[39;00m\n\u001b[1;32m    131\u001b[0m \u001b[39m    difference being that it returns both the gradient *and* the forward pass\u001b[39;00m\n\u001b[1;32m    132\u001b[0m \u001b[39m    value.\"\"\"\u001b[39;00m\n\u001b[0;32m--> 133\u001b[0m     vjp, ans \u001b[39m=\u001b[39m _make_vjp(fun, x)\n\u001b[1;32m    135\u001b[0m     \u001b[39mif\u001b[39;00m \u001b[39mnot\u001b[39;00m vspace(ans)\u001b[39m.\u001b[39msize \u001b[39m==\u001b[39m \u001b[39m1\u001b[39m:\n\u001b[1;32m    136\u001b[0m         \u001b[39mraise\u001b[39;00m \u001b[39mTypeError\u001b[39;00m(\n\u001b[1;32m    137\u001b[0m             \u001b[39m\"\u001b[39m\u001b[39mGrad only applies to real scalar-output functions. \u001b[39m\u001b[39m\"\u001b[39m\n\u001b[1;32m    138\u001b[0m             \u001b[39m\"\u001b[39m\u001b[39mTry jacobian, elementwise_grad or holomorphic_grad.\u001b[39m\u001b[39m\"\u001b[39m\n\u001b[1;32m    139\u001b[0m         )\n",
      "File \u001b[0;32m~/cyfronet/cross_entropy_method/venv/lib/python3.10/site-packages/autograd/core.py:10\u001b[0m, in \u001b[0;36mmake_vjp\u001b[0;34m(fun, x)\u001b[0m\n\u001b[1;32m      8\u001b[0m \u001b[39mdef\u001b[39;00m \u001b[39mmake_vjp\u001b[39m(fun, x):\n\u001b[1;32m      9\u001b[0m     start_node \u001b[39m=\u001b[39m VJPNode\u001b[39m.\u001b[39mnew_root()\n\u001b[0;32m---> 10\u001b[0m     end_value, end_node \u001b[39m=\u001b[39m  trace(start_node, fun, x)\n\u001b[1;32m     11\u001b[0m     \u001b[39mif\u001b[39;00m end_node \u001b[39mis\u001b[39;00m \u001b[39mNone\u001b[39;00m:\n\u001b[1;32m     12\u001b[0m         \u001b[39mdef\u001b[39;00m \u001b[39mvjp\u001b[39m(g): \u001b[39mreturn\u001b[39;00m vspace(x)\u001b[39m.\u001b[39mzeros()\n",
      "File \u001b[0;32m~/cyfronet/cross_entropy_method/venv/lib/python3.10/site-packages/autograd/tracer.py:10\u001b[0m, in \u001b[0;36mtrace\u001b[0;34m(start_node, fun, x)\u001b[0m\n\u001b[1;32m      8\u001b[0m \u001b[39mwith\u001b[39;00m trace_stack\u001b[39m.\u001b[39mnew_trace() \u001b[39mas\u001b[39;00m t:\n\u001b[1;32m      9\u001b[0m     start_box \u001b[39m=\u001b[39m new_box(x, t, start_node)\n\u001b[0;32m---> 10\u001b[0m     end_box \u001b[39m=\u001b[39m fun(start_box)\n\u001b[1;32m     11\u001b[0m     \u001b[39mif\u001b[39;00m isbox(end_box) \u001b[39mand\u001b[39;00m end_box\u001b[39m.\u001b[39m_trace \u001b[39m==\u001b[39m start_box\u001b[39m.\u001b[39m_trace:\n\u001b[1;32m     12\u001b[0m         \u001b[39mreturn\u001b[39;00m end_box\u001b[39m.\u001b[39m_value, end_box\u001b[39m.\u001b[39m_node\n",
      "File \u001b[0;32m~/cyfronet/cross_entropy_method/venv/lib/python3.10/site-packages/autograd/wrap_util.py:15\u001b[0m, in \u001b[0;36munary_to_nary.<locals>.nary_operator.<locals>.nary_f.<locals>.unary_f\u001b[0;34m(x)\u001b[0m\n\u001b[1;32m     13\u001b[0m \u001b[39melse\u001b[39;00m:\n\u001b[1;32m     14\u001b[0m     subargs \u001b[39m=\u001b[39m subvals(args, \u001b[39mzip\u001b[39m(argnum, x))\n\u001b[0;32m---> 15\u001b[0m \u001b[39mreturn\u001b[39;00m fun(\u001b[39m*\u001b[39;49msubargs, \u001b[39m*\u001b[39;49m\u001b[39m*\u001b[39;49mkwargs)\n",
      "File \u001b[0;32m~/cyfronet/cross_entropy_method/venv/lib/python3.10/site-packages/pennylane/qnode.py:619\u001b[0m, in \u001b[0;36mQNode.__call__\u001b[0;34m(self, *args, **kwargs)\u001b[0m\n\u001b[1;32m    612\u001b[0m using_custom_cache \u001b[39m=\u001b[39m (\n\u001b[1;32m    613\u001b[0m     \u001b[39mhasattr\u001b[39m(cache, \u001b[39m\"\u001b[39m\u001b[39m__getitem__\u001b[39m\u001b[39m\"\u001b[39m)\n\u001b[1;32m    614\u001b[0m     \u001b[39mand\u001b[39;00m \u001b[39mhasattr\u001b[39m(cache, \u001b[39m\"\u001b[39m\u001b[39m__setitem__\u001b[39m\u001b[39m\"\u001b[39m)\n\u001b[1;32m    615\u001b[0m     \u001b[39mand\u001b[39;00m \u001b[39mhasattr\u001b[39m(cache, \u001b[39m\"\u001b[39m\u001b[39m__delitem__\u001b[39m\u001b[39m\"\u001b[39m)\n\u001b[1;32m    616\u001b[0m )\n\u001b[1;32m    617\u001b[0m \u001b[39mself\u001b[39m\u001b[39m.\u001b[39m_tape_cached \u001b[39m=\u001b[39m using_custom_cache \u001b[39mand\u001b[39;00m \u001b[39mself\u001b[39m\u001b[39m.\u001b[39mtape\u001b[39m.\u001b[39mhash \u001b[39min\u001b[39;00m cache\n\u001b[0;32m--> 619\u001b[0m res \u001b[39m=\u001b[39m qml\u001b[39m.\u001b[39;49mexecute(\n\u001b[1;32m    620\u001b[0m     [\u001b[39mself\u001b[39;49m\u001b[39m.\u001b[39;49mtape],\n\u001b[1;32m    621\u001b[0m     device\u001b[39m=\u001b[39;49m\u001b[39mself\u001b[39;49m\u001b[39m.\u001b[39;49mdevice,\n\u001b[1;32m    622\u001b[0m     gradient_fn\u001b[39m=\u001b[39;49m\u001b[39mself\u001b[39;49m\u001b[39m.\u001b[39;49mgradient_fn,\n\u001b[1;32m    623\u001b[0m     interface\u001b[39m=\u001b[39;49m\u001b[39mself\u001b[39;49m\u001b[39m.\u001b[39;49minterface,\n\u001b[1;32m    624\u001b[0m     gradient_kwargs\u001b[39m=\u001b[39;49m\u001b[39mself\u001b[39;49m\u001b[39m.\u001b[39;49mgradient_kwargs,\n\u001b[1;32m    625\u001b[0m     override_shots\u001b[39m=\u001b[39;49moverride_shots,\n\u001b[1;32m    626\u001b[0m     \u001b[39m*\u001b[39;49m\u001b[39m*\u001b[39;49m\u001b[39mself\u001b[39;49m\u001b[39m.\u001b[39;49mexecute_kwargs,\n\u001b[1;32m    627\u001b[0m )\n\u001b[1;32m    629\u001b[0m \u001b[39mif\u001b[39;00m autograd\u001b[39m.\u001b[39misinstance(res, (\u001b[39mtuple\u001b[39m, \u001b[39mlist\u001b[39m)) \u001b[39mand\u001b[39;00m \u001b[39mlen\u001b[39m(res) \u001b[39m==\u001b[39m \u001b[39m1\u001b[39m:\n\u001b[1;32m    630\u001b[0m     \u001b[39m# If a device batch transform was applied, we need to 'unpack'\u001b[39;00m\n\u001b[1;32m    631\u001b[0m     \u001b[39m# the returned tuple/list to a float.\u001b[39;00m\n\u001b[0;32m   (...)\u001b[0m\n\u001b[1;32m    638\u001b[0m     \u001b[39m# TODO: find a more explicit way of determining that a batch transform\u001b[39;00m\n\u001b[1;32m    639\u001b[0m     \u001b[39m# was applied.\u001b[39;00m\n\u001b[1;32m    641\u001b[0m     res \u001b[39m=\u001b[39m res[\u001b[39m0\u001b[39m]\n",
      "File \u001b[0;32m~/cyfronet/cross_entropy_method/venv/lib/python3.10/site-packages/pennylane/interfaces/execution.py:344\u001b[0m, in \u001b[0;36mexecute\u001b[0;34m(tapes, device, gradient_fn, interface, mode, gradient_kwargs, cache, cachesize, max_diff, override_shots, expand_fn, max_expansion, device_batch_transform)\u001b[0m\n\u001b[1;32m    340\u001b[0m     \u001b[39mreturn\u001b[39;00m batch_fn(res)\n\u001b[1;32m    342\u001b[0m \u001b[39mif\u001b[39;00m gradient_fn \u001b[39m==\u001b[39m \u001b[39m\"\u001b[39m\u001b[39mbackprop\u001b[39m\u001b[39m\"\u001b[39m \u001b[39mor\u001b[39;00m interface \u001b[39mis\u001b[39;00m \u001b[39mNone\u001b[39;00m:\n\u001b[1;32m    343\u001b[0m     \u001b[39mreturn\u001b[39;00m batch_fn(\n\u001b[0;32m--> 344\u001b[0m         qml\u001b[39m.\u001b[39;49minterfaces\u001b[39m.\u001b[39;49mcache_execute(\n\u001b[1;32m    345\u001b[0m             batch_execute, cache, return_tuple\u001b[39m=\u001b[39;49m\u001b[39mFalse\u001b[39;49;00m, expand_fn\u001b[39m=\u001b[39;49mexpand_fn\n\u001b[1;32m    346\u001b[0m         )(tapes)\n\u001b[1;32m    347\u001b[0m     )\n\u001b[1;32m    349\u001b[0m \u001b[39m# the default execution function is batch_execute\u001b[39;00m\n\u001b[1;32m    350\u001b[0m execute_fn \u001b[39m=\u001b[39m qml\u001b[39m.\u001b[39minterfaces\u001b[39m.\u001b[39mcache_execute(batch_execute, cache, expand_fn\u001b[39m=\u001b[39mexpand_fn)\n",
      "File \u001b[0;32m~/cyfronet/cross_entropy_method/venv/lib/python3.10/site-packages/pennylane/interfaces/execution.py:172\u001b[0m, in \u001b[0;36mcache_execute.<locals>.wrapper\u001b[0;34m(tapes, **kwargs)\u001b[0m\n\u001b[1;32m    168\u001b[0m         \u001b[39mreturn\u001b[39;00m (res, []) \u001b[39mif\u001b[39;00m return_tuple \u001b[39melse\u001b[39;00m res\n\u001b[1;32m    170\u001b[0m \u001b[39melse\u001b[39;00m:\n\u001b[1;32m    171\u001b[0m     \u001b[39m# execute all unique tapes that do not exist in the cache\u001b[39;00m\n\u001b[0;32m--> 172\u001b[0m     res \u001b[39m=\u001b[39m fn(execution_tapes\u001b[39m.\u001b[39;49mvalues(), \u001b[39m*\u001b[39;49m\u001b[39m*\u001b[39;49mkwargs)\n\u001b[1;32m    174\u001b[0m final_res \u001b[39m=\u001b[39m []\n\u001b[1;32m    176\u001b[0m \u001b[39mfor\u001b[39;00m i, tape \u001b[39min\u001b[39;00m \u001b[39menumerate\u001b[39m(tapes):\n",
      "File \u001b[0;32m~/cyfronet/cross_entropy_method/venv/lib/python3.10/site-packages/pennylane/interfaces/execution.py:96\u001b[0m, in \u001b[0;36mcache_execute.<locals>.fn\u001b[0;34m(tapes, **kwargs)\u001b[0m\n\u001b[1;32m     95\u001b[0m \u001b[39mdef\u001b[39;00m \u001b[39mfn\u001b[39m(tapes, \u001b[39m*\u001b[39m\u001b[39m*\u001b[39mkwargs):  \u001b[39m# pylint: disable=function-redefined\u001b[39;00m\n\u001b[0;32m---> 96\u001b[0m     tapes \u001b[39m=\u001b[39m [expand_fn(tape) \u001b[39mfor\u001b[39;00m tape \u001b[39min\u001b[39;00m tapes]\n\u001b[1;32m     97\u001b[0m     \u001b[39mreturn\u001b[39;00m original_fn(tapes, \u001b[39m*\u001b[39m\u001b[39m*\u001b[39mkwargs)\n",
      "File \u001b[0;32m~/cyfronet/cross_entropy_method/venv/lib/python3.10/site-packages/pennylane/interfaces/execution.py:96\u001b[0m, in \u001b[0;36m<listcomp>\u001b[0;34m(.0)\u001b[0m\n\u001b[1;32m     95\u001b[0m \u001b[39mdef\u001b[39;00m \u001b[39mfn\u001b[39m(tapes, \u001b[39m*\u001b[39m\u001b[39m*\u001b[39mkwargs):  \u001b[39m# pylint: disable=function-redefined\u001b[39;00m\n\u001b[0;32m---> 96\u001b[0m     tapes \u001b[39m=\u001b[39m [expand_fn(tape) \u001b[39mfor\u001b[39;00m tape \u001b[39min\u001b[39;00m tapes]\n\u001b[1;32m     97\u001b[0m     \u001b[39mreturn\u001b[39;00m original_fn(tapes, \u001b[39m*\u001b[39m\u001b[39m*\u001b[39mkwargs)\n",
      "File \u001b[0;32m~/cyfronet/cross_entropy_method/venv/lib/python3.10/site-packages/pennylane/interfaces/execution.py:325\u001b[0m, in \u001b[0;36mexecute.<locals>.<lambda>\u001b[0;34m(tape)\u001b[0m\n\u001b[1;32m    322\u001b[0m batch_execute \u001b[39m=\u001b[39m set_shots(device, override_shots)(device\u001b[39m.\u001b[39mbatch_execute)\n\u001b[1;32m    324\u001b[0m \u001b[39mif\u001b[39;00m expand_fn \u001b[39m==\u001b[39m \u001b[39m\"\u001b[39m\u001b[39mdevice\u001b[39m\u001b[39m\"\u001b[39m:\n\u001b[0;32m--> 325\u001b[0m     expand_fn \u001b[39m=\u001b[39m \u001b[39mlambda\u001b[39;00m tape: device\u001b[39m.\u001b[39;49mexpand_fn(tape, max_expansion\u001b[39m=\u001b[39;49mmax_expansion)\n\u001b[1;32m    327\u001b[0m \u001b[39mif\u001b[39;00m gradient_fn \u001b[39mis\u001b[39;00m \u001b[39mNone\u001b[39;00m:\n\u001b[1;32m    328\u001b[0m     \u001b[39m# don't unwrap if it's an interface device\u001b[39;00m\n\u001b[1;32m    329\u001b[0m     \u001b[39mif\u001b[39;00m \u001b[39m\"\u001b[39m\u001b[39mpassthru_interface\u001b[39m\u001b[39m\"\u001b[39m \u001b[39min\u001b[39;00m device\u001b[39m.\u001b[39mcapabilities():\n",
      "File \u001b[0;32m~/cyfronet/cross_entropy_method/venv/lib/python3.10/site-packages/pennylane/_device.py:680\u001b[0m, in \u001b[0;36mDevice.expand_fn\u001b[0;34m(self, circuit, max_expansion)\u001b[0m\n\u001b[1;32m    677\u001b[0m \u001b[39mif\u001b[39;00m \u001b[39mself\u001b[39m\u001b[39m.\u001b[39mcustom_expand_fn \u001b[39mis\u001b[39;00m \u001b[39mnot\u001b[39;00m \u001b[39mNone\u001b[39;00m:\n\u001b[1;32m    678\u001b[0m     \u001b[39mreturn\u001b[39;00m \u001b[39mself\u001b[39m\u001b[39m.\u001b[39mcustom_expand_fn(circuit, max_expansion\u001b[39m=\u001b[39mmax_expansion)\n\u001b[0;32m--> 680\u001b[0m \u001b[39mreturn\u001b[39;00m \u001b[39mself\u001b[39;49m\u001b[39m.\u001b[39;49mdefault_expand_fn(circuit, max_expansion\u001b[39m=\u001b[39;49mmax_expansion)\n",
      "File \u001b[0;32m~/cyfronet/cross_entropy_method/venv/lib/python3.10/site-packages/pennylane/_device.py:655\u001b[0m, in \u001b[0;36mDevice.default_expand_fn\u001b[0;34m(self, circuit, max_expansion)\u001b[0m\n\u001b[1;32m    652\u001b[0m ops_not_supported \u001b[39m=\u001b[39m \u001b[39mnot\u001b[39;00m \u001b[39mall\u001b[39m(\u001b[39mself\u001b[39m\u001b[39m.\u001b[39mstopping_condition(op) \u001b[39mfor\u001b[39;00m op \u001b[39min\u001b[39;00m circuit\u001b[39m.\u001b[39moperations)\n\u001b[1;32m    654\u001b[0m \u001b[39mif\u001b[39;00m ops_not_supported \u001b[39mor\u001b[39;00m obs_on_same_wire:\n\u001b[0;32m--> 655\u001b[0m     circuit \u001b[39m=\u001b[39m circuit\u001b[39m.\u001b[39;49mexpand(depth\u001b[39m=\u001b[39;49mmax_expansion, stop_at\u001b[39m=\u001b[39;49m\u001b[39mself\u001b[39;49m\u001b[39m.\u001b[39;49mstopping_condition)\n\u001b[1;32m    657\u001b[0m \u001b[39mreturn\u001b[39;00m circuit\n",
      "File \u001b[0;32m~/cyfronet/cross_entropy_method/venv/lib/python3.10/site-packages/pennylane/tape/tape.py:610\u001b[0m, in \u001b[0;36mQuantumTape.expand\u001b[0;34m(self, depth, stop_at, expand_measurements)\u001b[0m\n\u001b[1;32m    562\u001b[0m \u001b[39mdef\u001b[39;00m \u001b[39mexpand\u001b[39m(\u001b[39mself\u001b[39m, depth\u001b[39m=\u001b[39m\u001b[39m1\u001b[39m, stop_at\u001b[39m=\u001b[39m\u001b[39mNone\u001b[39;00m, expand_measurements\u001b[39m=\u001b[39m\u001b[39mFalse\u001b[39;00m):\n\u001b[1;32m    563\u001b[0m     \u001b[39m\"\"\"Expand all operations in the processed queue to a specific depth.\u001b[39;00m\n\u001b[1;32m    564\u001b[0m \n\u001b[1;32m    565\u001b[0m \u001b[39m    Args:\u001b[39;00m\n\u001b[0;32m   (...)\u001b[0m\n\u001b[1;32m    608\u001b[0m \u001b[39m    RY(0.2, wires=['a'])]\u001b[39;00m\n\u001b[1;32m    609\u001b[0m \u001b[39m    \"\"\"\u001b[39;00m\n\u001b[0;32m--> 610\u001b[0m     new_tape \u001b[39m=\u001b[39m expand_tape(\n\u001b[1;32m    611\u001b[0m         \u001b[39mself\u001b[39;49m, depth\u001b[39m=\u001b[39;49mdepth, stop_at\u001b[39m=\u001b[39;49mstop_at, expand_measurements\u001b[39m=\u001b[39;49mexpand_measurements\n\u001b[1;32m    612\u001b[0m     )\n\u001b[1;32m    613\u001b[0m     new_tape\u001b[39m.\u001b[39m_update()\n\u001b[1;32m    614\u001b[0m     \u001b[39mreturn\u001b[39;00m new_tape\n",
      "File \u001b[0;32m~/cyfronet/cross_entropy_method/venv/lib/python3.10/site-packages/pennylane/tape/tape.py:184\u001b[0m, in \u001b[0;36mexpand_tape\u001b[0;34m(tape, depth, stop_at, expand_measurements)\u001b[0m\n\u001b[1;32m    181\u001b[0m \u001b[39mif\u001b[39;00m \u001b[39misinstance\u001b[39m(obj, (qml\u001b[39m.\u001b[39moperation\u001b[39m.\u001b[39mOperator, qml\u001b[39m.\u001b[39mmeasurements\u001b[39m.\u001b[39mMeasurementProcess)):\n\u001b[1;32m    182\u001b[0m     \u001b[39m# Object is an operation; query it for its expansion\u001b[39;00m\n\u001b[1;32m    183\u001b[0m     \u001b[39mtry\u001b[39;00m:\n\u001b[0;32m--> 184\u001b[0m         obj \u001b[39m=\u001b[39m obj\u001b[39m.\u001b[39;49mexpand()\n\u001b[1;32m    185\u001b[0m     \u001b[39mexcept\u001b[39;00m DecompositionUndefinedError:\n\u001b[1;32m    186\u001b[0m         \u001b[39m# Object does not define an expansion; treat this as\u001b[39;00m\n\u001b[1;32m    187\u001b[0m         \u001b[39m# a stopping condition.\u001b[39;00m\n\u001b[1;32m    188\u001b[0m         \u001b[39mgetattr\u001b[39m(new_tape, queue)\u001b[39m.\u001b[39mappend(obj)\n",
      "File \u001b[0;32m~/cyfronet/cross_entropy_method/venv/lib/python3.10/site-packages/pennylane/operation.py:1185\u001b[0m, in \u001b[0;36mOperator.expand\u001b[0;34m(self)\u001b[0m\n\u001b[1;32m   1182\u001b[0m tape \u001b[39m=\u001b[39m qml\u001b[39m.\u001b[39mtape\u001b[39m.\u001b[39mQuantumTape(do_queue\u001b[39m=\u001b[39m\u001b[39mFalse\u001b[39;00m)\n\u001b[1;32m   1184\u001b[0m \u001b[39mwith\u001b[39;00m tape:\n\u001b[0;32m-> 1185\u001b[0m     \u001b[39mself\u001b[39;49m\u001b[39m.\u001b[39;49mdecomposition()\n\u001b[1;32m   1187\u001b[0m \u001b[39mif\u001b[39;00m \u001b[39mnot\u001b[39;00m \u001b[39mself\u001b[39m\u001b[39m.\u001b[39mdata:\n\u001b[1;32m   1188\u001b[0m     \u001b[39m# original operation has no trainable parameters\u001b[39;00m\n\u001b[1;32m   1189\u001b[0m     tape\u001b[39m.\u001b[39mtrainable_params \u001b[39m=\u001b[39m {}\n",
      "File \u001b[0;32m~/cyfronet/cross_entropy_method/venv/lib/python3.10/site-packages/pennylane/operation.py:1026\u001b[0m, in \u001b[0;36mOperator.decomposition\u001b[0;34m(self)\u001b[0m\n\u001b[1;32m   1014\u001b[0m \u001b[39mdef\u001b[39;00m \u001b[39mdecomposition\u001b[39m(\u001b[39mself\u001b[39m):\n\u001b[1;32m   1015\u001b[0m     \u001b[39mr\u001b[39m\u001b[39m\"\"\"Representation of the operator as a product of other operators.\u001b[39;00m\n\u001b[1;32m   1016\u001b[0m \n\u001b[1;32m   1017\u001b[0m \u001b[39m    .. math:: O = O_1 O_2 \\dots O_n\u001b[39;00m\n\u001b[0;32m   (...)\u001b[0m\n\u001b[1;32m   1024\u001b[0m \u001b[39m        list[Operator]: decomposition of the operator\u001b[39;00m\n\u001b[1;32m   1025\u001b[0m \u001b[39m    \"\"\"\u001b[39;00m\n\u001b[0;32m-> 1026\u001b[0m     \u001b[39mreturn\u001b[39;00m \u001b[39mself\u001b[39;49m\u001b[39m.\u001b[39;49mcompute_decomposition(\n\u001b[1;32m   1027\u001b[0m         \u001b[39m*\u001b[39;49m\u001b[39mself\u001b[39;49m\u001b[39m.\u001b[39;49mparameters, wires\u001b[39m=\u001b[39;49m\u001b[39mself\u001b[39;49m\u001b[39m.\u001b[39;49mwires, \u001b[39m*\u001b[39;49m\u001b[39m*\u001b[39;49m\u001b[39mself\u001b[39;49m\u001b[39m.\u001b[39;49mhyperparameters\n\u001b[1;32m   1028\u001b[0m     )\n",
      "File \u001b[0;32m~/cyfronet/cross_entropy_method/venv/lib/python3.10/site-packages/pennylane/templates/subroutines/approx_time_evolution.py:170\u001b[0m, in \u001b[0;36mApproxTimeEvolution.compute_decomposition\u001b[0;34m(wires, hamiltonian, n, *coeffs_and_time)\u001b[0m\n\u001b[1;32m    168\u001b[0m \u001b[39m# skips terms composed solely of identities\u001b[39;00m\n\u001b[1;32m    169\u001b[0m \u001b[39mif\u001b[39;00m word\u001b[39m.\u001b[39mcount(\u001b[39m\"\u001b[39m\u001b[39mI\u001b[39m\u001b[39m\"\u001b[39m) \u001b[39m!=\u001b[39m \u001b[39mlen\u001b[39m(word):\n\u001b[0;32m--> 170\u001b[0m     theta\u001b[39m.\u001b[39mappend((\u001b[39m2\u001b[39;49m \u001b[39m*\u001b[39;49m time \u001b[39m*\u001b[39;49m coeffs[i]) \u001b[39m/\u001b[39;49m n)\n\u001b[1;32m    171\u001b[0m     pauli_words\u001b[39m.\u001b[39mappend(word)\n\u001b[1;32m    172\u001b[0m     wires\u001b[39m.\u001b[39mappend(term\u001b[39m.\u001b[39mwires)\n",
      "File \u001b[0;32m~/cyfronet/cross_entropy_method/venv/lib/python3.10/site-packages/autograd/numpy/numpy_boxes.py:31\u001b[0m, in \u001b[0;36mArrayBox.__truediv__\u001b[0;34m(self, other)\u001b[0m\n\u001b[0;32m---> 31\u001b[0m \u001b[39mdef\u001b[39;00m \u001b[39m__truediv__\u001b[39m(\u001b[39mself\u001b[39m, other): \u001b[39mreturn\u001b[39;00m anp\u001b[39m.\u001b[39;49mtrue_divide(\u001b[39mself\u001b[39;49m, other)\n",
      "File \u001b[0;32m~/cyfronet/cross_entropy_method/venv/lib/python3.10/site-packages/autograd/tracer.py:45\u001b[0m, in \u001b[0;36mprimitive.<locals>.f_wrapped\u001b[0;34m(*args, **kwargs)\u001b[0m\n\u001b[1;32m     43\u001b[0m     argnums \u001b[39m=\u001b[39m \u001b[39mtuple\u001b[39m(argnum    \u001b[39mfor\u001b[39;00m argnum, _   \u001b[39min\u001b[39;00m boxed_args)\n\u001b[1;32m     44\u001b[0m     ans \u001b[39m=\u001b[39m f_wrapped(\u001b[39m*\u001b[39margvals, \u001b[39m*\u001b[39m\u001b[39m*\u001b[39mkwargs)\n\u001b[0;32m---> 45\u001b[0m     node \u001b[39m=\u001b[39m node_constructor(ans, f_wrapped, argvals, kwargs, argnums, parents)\n\u001b[1;32m     46\u001b[0m     \u001b[39mreturn\u001b[39;00m new_box(ans, trace, node)\n\u001b[1;32m     47\u001b[0m \u001b[39melse\u001b[39;00m:\n",
      "File \u001b[0;32m~/cyfronet/cross_entropy_method/venv/lib/python3.10/site-packages/autograd/core.py:36\u001b[0m, in \u001b[0;36mVJPNode.__init__\u001b[0;34m(self, value, fun, args, kwargs, parent_argnums, parents)\u001b[0m\n\u001b[1;32m     33\u001b[0m     fun_name \u001b[39m=\u001b[39m \u001b[39mgetattr\u001b[39m(fun, \u001b[39m'\u001b[39m\u001b[39m__name__\u001b[39m\u001b[39m'\u001b[39m, fun)\n\u001b[1;32m     34\u001b[0m     \u001b[39mraise\u001b[39;00m \u001b[39mNotImplementedError\u001b[39;00m(\u001b[39m\"\u001b[39m\u001b[39mVJP of \u001b[39m\u001b[39m{}\u001b[39;00m\u001b[39m wrt argnums \u001b[39m\u001b[39m{}\u001b[39;00m\u001b[39m not defined\u001b[39m\u001b[39m\"\u001b[39m\n\u001b[1;32m     35\u001b[0m                               \u001b[39m.\u001b[39mformat(fun_name, parent_argnums))\n\u001b[0;32m---> 36\u001b[0m \u001b[39mself\u001b[39m\u001b[39m.\u001b[39mvjp \u001b[39m=\u001b[39m vjpmaker(parent_argnums, value, args, kwargs)\n",
      "File \u001b[0;32m~/cyfronet/cross_entropy_method/venv/lib/python3.10/site-packages/autograd/core.py:56\u001b[0m, in \u001b[0;36mdefvjp.<locals>.vjp_argnums\u001b[0;34m(argnums, ans, args, kwargs)\u001b[0m\n\u001b[1;32m     53\u001b[0m argnums \u001b[39m=\u001b[39m kwargs\u001b[39m.\u001b[39mget(\u001b[39m'\u001b[39m\u001b[39margnums\u001b[39m\u001b[39m'\u001b[39m, count())\n\u001b[1;32m     54\u001b[0m vjps_dict \u001b[39m=\u001b[39m {argnum : translate_vjp(vjpmaker, fun, argnum)\n\u001b[1;32m     55\u001b[0m              \u001b[39mfor\u001b[39;00m argnum, vjpmaker \u001b[39min\u001b[39;00m \u001b[39mzip\u001b[39m(argnums, vjpmakers)}\n\u001b[0;32m---> 56\u001b[0m \u001b[39mdef\u001b[39;00m \u001b[39mvjp_argnums\u001b[39m(argnums, ans, args, kwargs):\n\u001b[1;32m     57\u001b[0m     L \u001b[39m=\u001b[39m \u001b[39mlen\u001b[39m(argnums)\n\u001b[1;32m     58\u001b[0m     \u001b[39m# These first two cases are just optimizations\u001b[39;00m\n",
      "\u001b[0;31mKeyboardInterrupt\u001b[0m: "
     ]
    }
   ],
   "source": [
    "qaoa = ESCH(max_evals=200)\n",
    "qaoa.minimize(knapsack_qaoa.run_learning_n_get_results, [1, 1])\n"
   ]
  },
  {
   "cell_type": "code",
   "execution_count": null,
   "metadata": {},
   "outputs": [],
   "source": []
  }
 ],
 "metadata": {
  "kernelspec": {
   "display_name": "Python 3.10.4 ('venv': venv)",
   "language": "python",
   "name": "python3"
  },
  "language_info": {
   "codemirror_mode": {
    "name": "ipython",
    "version": 3
   },
   "file_extension": ".py",
   "mimetype": "text/x-python",
   "name": "python",
   "nbconvert_exporter": "python",
   "pygments_lexer": "ipython3",
   "version": "3.10.4"
  },
  "orig_nbformat": 4,
  "vscode": {
   "interpreter": {
    "hash": "194d560554aca00f6e3bce42e1e7e246ef0a295a71f2572582018ad7f70a5cdf"
   }
  }
 },
 "nbformat": 4,
 "nbformat_minor": 2
}
