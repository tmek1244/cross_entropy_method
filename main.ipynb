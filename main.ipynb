{
 "cells": [
  {
   "cell_type": "markdown",
   "metadata": {},
   "source": [
    "## TSP problem"
   ]
  },
  {
   "cell_type": "code",
   "execution_count": 41,
   "metadata": {},
   "outputs": [],
   "source": [
    "from QAOA.optimizers.CEM import CEM\n",
    "from QAOA.problems.TSP import QAOA_TSP\n",
    "from QAOA.problem_solver import ProblemSolver"
   ]
  },
  {
   "cell_type": "code",
   "execution_count": 44,
   "metadata": {},
   "outputs": [],
   "source": [
    "import pennylane as qml\n",
    "\n",
    "\n",
    "tsp = QAOA_TSP(\n",
    "    number_of_cities=3,\n",
    "    number_of_layers=6,\n",
    "    optimization_steps=70,\n",
    "    # optimizer=qml.GradientDescentOptimizer(stepsize=0.01)\n",
    "    optimizer=qml.AdamOptimizer(\n",
    "        stepsize=0.01,\n",
    "        beta1=0.9,\n",
    "        beta2=0.99\n",
    "    )\n",
    ")\n",
    "# cem = CEM(\n",
    "#     problem=tsp,\n",
    "#     epochs=10,\n",
    "#     samples_per_epoch=100,\n",
    "#     elite_frac=0.1,\n",
    "#     process=6\n",
    "# )\n",
    "\n",
    "# cem.minimize(init_weights=[1, 1, 1])"
   ]
  },
  {
   "cell_type": "code",
   "execution_count": 45,
   "metadata": {},
   "outputs": [],
   "source": [
    "solver = ProblemSolver(tsp, qml.AdamOptimizer(stepsize=0.50))"
   ]
  },
  {
   "cell_type": "code",
   "execution_count": null,
   "metadata": {},
   "outputs": [],
   "source": [
    "solver.run_learning([4, 1, 1], 1)"
   ]
  },
  {
   "cell_type": "markdown",
   "metadata": {},
   "source": [
    "## Knapsack problem"
   ]
  },
  {
   "cell_type": "code",
   "execution_count": 1,
   "metadata": {},
   "outputs": [],
   "source": [
    "%load_ext autoreload\n",
    "%autoreload 2"
   ]
  },
  {
   "cell_type": "code",
   "execution_count": 2,
   "metadata": {},
   "outputs": [],
   "source": [
    "from QAOA.problems.Knapsack import Knapsack, QAOA_Knapsack\n",
    "from QAOA.optimizers.CEM import CEM\n",
    "from QAOA.problem_solver import ProblemSolver\n",
    "\n",
    "import pennylane as qml"
   ]
  },
  {
   "cell_type": "code",
   "execution_count": 3,
   "metadata": {},
   "outputs": [],
   "source": [
    "knapsack = Knapsack(max_weight=2)\n",
    "knapsack.set_knapsack([(2, 2), (3, 1)])"
   ]
  },
  {
   "cell_type": "code",
   "execution_count": 4,
   "metadata": {},
   "outputs": [],
   "source": [
    "knapsack_qaoa = QAOA_Knapsack(\n",
    "    knapsack, \n",
    "    layers=3\n",
    "    # number_of_layers=2, \n",
    "    # optimization_steps=200, \n",
    "    # optimizer=qml.AdagradOptimizer(stepsize=0.50)\n",
    "    # optimizer=qml.GradientDescentOptimizer(stepsize=0.01)\n",
    ")"
   ]
  },
  {
   "cell_type": "code",
   "execution_count": 5,
   "metadata": {},
   "outputs": [],
   "source": [
    "solver = ProblemSolver(knapsack_qaoa, qml.AdamOptimizer(stepsize=0.50))"
   ]
  },
  {
   "cell_type": "code",
   "execution_count": 6,
   "metadata": {},
   "outputs": [
    {
     "data": {
      "text/plain": [
       "(tensor([[ 2.07225667],\n",
       "         [13.99128126]], requires_grad=True),\n",
       " tensor([0.05912193, 0.26245265, 0.06660304, 0.02576167, 0.0252872 ,\n",
       "         0.06769731, 0.00445439, 0.01978466, 0.12371263, 0.01262926,\n",
       "         0.04060735, 0.09091908, 0.1026911 , 0.07340681, 0.00914174,\n",
       "         0.01572918], requires_grad=True))"
      ]
     },
     "execution_count": 6,
     "metadata": {},
     "output_type": "execute_result"
    }
   ],
   "source": [
    "solver.run_learning([4, 1])"
   ]
  },
  {
   "cell_type": "code",
   "execution_count": 7,
   "metadata": {},
   "outputs": [],
   "source": [
    "cem = CEM(\n",
    "    solver=solver,\n",
    "    epochs=10,\n",
    "    samples_per_epoch=100,\n",
    "    elite_frac=0.1,\n",
    "    process=6\n",
    ")\n",
    "\n",
    "cem.minimize(\n",
    "    init_weights=[1, 1], \n",
    "    # mean=[2.0345243512510995, 2.942750372594455]\n",
    ")"
   ]
  },
  {
   "cell_type": "code",
   "execution_count": 13,
   "metadata": {},
   "outputs": [
    {
     "name": "stdout",
     "output_type": "stream",
     "text": [
      "Epoch 1\tAverage Elite Score: -0.3825633806073557\tAverage Score: -0.12373419129605781\n",
      "[-7.147861346391355, 9.347924610995836] with reward: -0.5678048497728833\n",
      "Epoch 2\tAverage Elite Score: -0.362932978179451\tAverage Score: -0.11454479002779813\n",
      "[6.689794925041902, -3.8811813854420674] with reward: -0.569855744441671\n",
      "Epoch 3\tAverage Elite Score: -0.4507558604393235\tAverage Score: -0.14094499255572637\n",
      "[6.689794925041902, -3.8811813854420674] with reward: -0.569855744441671\n",
      "Epoch 4\tAverage Elite Score: -0.3481713818898989\tAverage Score: -0.12556784882292085\n",
      "[6.689794925041902, -3.8811813854420674] with reward: -0.569855744441671\n",
      "Epoch 5\tAverage Elite Score: -0.37607816600768434\tAverage Score: -0.12379451838521603\n",
      "[6.689794925041902, -3.8811813854420674] with reward: -0.569855744441671\n",
      "Epoch 6\tAverage Elite Score: -0.3731710878383884\tAverage Score: -0.1147461320326705\n",
      "[6.689794925041902, -3.8811813854420674] with reward: -0.569855744441671\n",
      "Epoch 7\tAverage Elite Score: -0.4510509117545601\tAverage Score: -0.14105842808153632\n",
      "[-4.575296603491294, -0.9036316684903625] with reward: -0.6954374500213331\n",
      "Epoch 8\tAverage Elite Score: -0.43774602562087106\tAverage Score: -0.1458408146221893\n",
      "[-4.575296603491294, -0.9036316684903625] with reward: -0.6954374500213331\n",
      "Epoch 9\tAverage Elite Score: -0.4075116944758669\tAverage Score: -0.13028848617762842\n",
      "[-4.575296603491294, -0.9036316684903625] with reward: -0.6954374500213331\n",
      "Epoch 10\tAverage Elite Score: -0.4425664179853185\tAverage Score: -0.14563735788635593\n",
      "[-4.575296603491294, -0.9036316684903625] with reward: -0.6954374500213331\n"
     ]
    },
    {
     "data": {
      "text/plain": [
       "[-4.575296603491294, -0.9036316684903625]"
      ]
     },
     "execution_count": 13,
     "metadata": {},
     "output_type": "execute_result"
    }
   ],
   "source": [
    "cem.randomize(init_weights=[1, 1])"
   ]
  },
  {
   "cell_type": "code",
   "execution_count": 16,
   "metadata": {},
   "outputs": [
    {
     "name": "stdout",
     "output_type": "stream",
     "text": [
      "Key: 101 with probability 0.5851258230403462   | correct: True, value: 2\n",
      "Key: 111 with probability 0.23010160440914704   | correct: False\n",
      "Key: 001 with probability 0.06187830273109165   | correct: False\n",
      "Key: 011 with probability 0.05841408055146326   | correct: True, value: 1\n",
      "Key: 100 with probability 0.03178243587187642   | correct: False\n",
      "Key: 000 with probability 0.01852700194629529   | correct: True, value: 0\n",
      "Key: 110 with probability 0.008241419311877003   | correct: False\n",
      "Key: 010 with probability 0.005929332137900813   | correct: False\n"
     ]
    }
   ],
   "source": [
    "knapsack_qaoa.print_results([5.876428961941668, 1.9278045693719936])"
   ]
  },
  {
   "cell_type": "code",
   "execution_count": 15,
   "metadata": {},
   "outputs": [
    {
     "name": "stdout",
     "output_type": "stream",
     "text": [
      "0: ──H──MultiRZ(1.00)─╭MultiRZ(1.00)─╭MultiRZ(-1.00)──H───────────────MultiRZ(1.00)──H────────────\n",
      "1: ──H────────────────╰MultiRZ(1.00)─│───────────────╭MultiRZ(-1.00)──H──────────────MultiRZ(1.00)\n",
      "2: ──H──MultiRZ(2.00)────────────────╰MultiRZ(-1.00)─╰MultiRZ(-1.00)──H──────────────MultiRZ(1.00)\n",
      "\n",
      "─────┤ ╭<𝓗>\n",
      "───H─┤ ├<𝓗>\n",
      "───H─┤ ╰<𝓗>\n"
     ]
    }
   ],
   "source": [
    "import pennylane as qml\n",
    "\n",
    "def _create_mixing_hamitonian(const=1/2):\n",
    "    hamiltonian = qml.Identity(0)\n",
    "    for i in range(3):\n",
    "        hamiltonian += qml.Hamiltonian([const], [qml.PauliX(i)])\n",
    "    return hamiltonian\n",
    "    \n",
    "\n",
    "cost_operator = knapsack_qaoa._create_cost_operator((1, 1))\n",
    "def qaoa_layer(gamma, beta):\n",
    "    qml.qaoa.cost_layer(gamma, cost_operator)\n",
    "    qml.qaoa.mixer_layer(beta, _create_mixing_hamitonian())\n",
    "\n",
    "def hadamard_layer(wires):\n",
    "    for i in range(wires):\n",
    "        qml.Hadamard(i)\n",
    "\n",
    "def circuit(params, n_layers=2):\n",
    "    hadamard_layer(3)\n",
    "    qml.layer(qaoa_layer, n_layers, params[0], params[1])\n",
    "\n",
    "dev = qml.device(\"default.qubit\", wires=3)\n",
    "\n",
    "\n",
    "@qml.qnode(dev)\n",
    "def cost_function(params):\n",
    "    circuit(params, n_layers=1)\n",
    "    x = qml.expval(cost_operator)\n",
    "    return x\n",
    "\n",
    "# fig, ax = qml.draw_mpl(cost_function, expansion_strategy=\"device\")([[1], [2]])\n",
    "# fig.show()\n",
    "print(qml.draw(cost_function, expansion_strategy=\"device\")([[1], [1]]))"
   ]
  },
  {
   "cell_type": "code",
   "execution_count": 21,
   "metadata": {},
   "outputs": [
    {
     "name": "stdout",
     "output_type": "stream",
     "text": [
      "6.222222222222221\n",
      "[[8 4 2]\n",
      " [2 1 0]]\n",
      "[4.66666667 1.        ]\n",
      "[[6.22222222 2.        ]\n",
      " [2.         0.66666667]]\n"
     ]
    }
   ],
   "source": [
    "import numpy as np\n",
    "\n",
    "\n",
    "elite_weights = [[8,2], [4,1], [2,0]]\n",
    "print(np.var([8, 4, 2]))\n",
    "_mean = np.mean(elite_weights, axis=0)\n",
    "print(np.stack((elite_weights), axis = 1))\n",
    "_cov = np.cov(np.stack((elite_weights), axis = 1), bias=True)\n",
    "print(_mean)\n",
    "print(_cov)"
   ]
  },
  {
   "cell_type": "code",
   "execution_count": null,
   "metadata": {},
   "outputs": [],
   "source": []
  }
 ],
 "metadata": {
  "kernelspec": {
   "display_name": "Python 3.10.4 ('venv': venv)",
   "language": "python",
   "name": "python3"
  },
  "language_info": {
   "codemirror_mode": {
    "name": "ipython",
    "version": 3
   },
   "file_extension": ".py",
   "mimetype": "text/x-python",
   "name": "python",
   "nbconvert_exporter": "python",
   "pygments_lexer": "ipython3",
   "version": "3.10.6"
  },
  "orig_nbformat": 4,
  "vscode": {
   "interpreter": {
    "hash": "194d560554aca00f6e3bce42e1e7e246ef0a295a71f2572582018ad7f70a5cdf"
   }
  }
 },
 "nbformat": 4,
 "nbformat_minor": 2
}
