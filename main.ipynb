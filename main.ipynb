{
 "cells": [
  {
   "cell_type": "code",
   "execution_count": 2,
   "metadata": {},
   "outputs": [],
   "source": [
    "import pennylane as qml"
   ]
  },
  {
   "cell_type": "markdown",
   "metadata": {},
   "source": [
    "## TSP problem"
   ]
  },
  {
   "cell_type": "code",
   "execution_count": 3,
   "metadata": {},
   "outputs": [],
   "source": [
    "from CEM_optimizer.CEM import CEM\n",
    "from CEM_optimizer.TSP import QAOA_TSP"
   ]
  },
  {
   "cell_type": "code",
   "execution_count": 5,
   "metadata": {},
   "outputs": [
    {
     "name": "stdout",
     "output_type": "stream",
     "text": [
      "Epoch 1\tAverage Elite Score: 18.766792153474164\tAverage Score: 19.729942469855978\n",
      "[-0.9625140658494975, 0.47963434332129884, 0.30770035329088663] with reward: 19.783974325143465\n"
     ]
    },
    {
     "data": {
      "text/plain": [
       "[-0.9625140658494975, 0.47963434332129884, 0.30770035329088663]"
      ]
     },
     "execution_count": 5,
     "metadata": {},
     "output_type": "execute_result"
    }
   ],
   "source": [
    "tsp = QAOA_TSP(\n",
    "    number_of_cities=3,\n",
    "    number_of_layers=6,\n",
    "    optimization_steps=70,\n",
    "    optimizer=qml.AdamOptimizer(\n",
    "        stepsize=0.01,\n",
    "        beta1=0.9,\n",
    "        beta2=0.99\n",
    "    )\n",
    ")\n",
    "cem = CEM(\n",
    "    problem=tsp,\n",
    "    epochs=10,\n",
    "    samples_per_epoch=100,\n",
    "    elite_frac=0.1,\n",
    "    process=6\n",
    ")\n",
    "\n",
    "cem.minimize(init_weights=[1, 1, 1])"
   ]
  },
  {
   "cell_type": "code",
   "execution_count": null,
   "metadata": {},
   "outputs": [],
   "source": []
  }
 ],
 "metadata": {
  "kernelspec": {
   "display_name": "Python 3.10.4 ('venv': venv)",
   "language": "python",
   "name": "python3"
  },
  "language_info": {
   "codemirror_mode": {
    "name": "ipython",
    "version": 3
   },
   "file_extension": ".py",
   "mimetype": "text/x-python",
   "name": "python",
   "nbconvert_exporter": "python",
   "pygments_lexer": "ipython3",
   "version": "3.10.4"
  },
  "orig_nbformat": 4,
  "vscode": {
   "interpreter": {
    "hash": "194d560554aca00f6e3bce42e1e7e246ef0a295a71f2572582018ad7f70a5cdf"
   }
  }
 },
 "nbformat": 4,
 "nbformat_minor": 2
}
