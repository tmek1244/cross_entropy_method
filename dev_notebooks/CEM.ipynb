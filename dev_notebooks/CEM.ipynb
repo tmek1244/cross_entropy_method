{
 "cells": [
  {
   "cell_type": "markdown",
   "metadata": {
    "pycharm": {
     "name": "#%% md\n"
    }
   },
   "source": [
    "# Cross-Entropy Method"
   ]
  },
  {
   "cell_type": "code",
   "execution_count": 1,
   "metadata": {
    "pycharm": {
     "name": "#%%\n"
    }
   },
   "outputs": [],
   "source": [
    "import numpy as np\n",
    "from collections import deque\n",
    "import matplotlib.pyplot as plt\n",
    "\n",
    "from sympy import *\n",
    "%matplotlib inline"
   ]
  },
  {
   "cell_type": "code",
   "execution_count": 3,
   "metadata": {
    "pycharm": {
     "name": "#%%\n"
    }
   },
   "outputs": [],
   "source": [
    "def calculate(x1, y1):\n",
    "    x = Symbol('x')\n",
    "    y = Symbol('y')\n",
    "    amp = (\n",
    "        cos(pi*x)/16 \n",
    "        - cos(3*pi*x)/16 \n",
    "        - cos(pi*(x - 4*y))/32 \n",
    "        + cos(pi*(x - 2*y))/8 \n",
    "        - cos(pi*(x + 2*y))/8 \n",
    "        - cos(pi*(x + 4*y))/32 \n",
    "        + cos(pi*(2*x - 2*y))/8 \n",
    "        - cos(pi*(2*x + 2*y))/8 \n",
    "        + cos(pi*(3*x - 4*y))/32 \n",
    "        + cos(pi*(3*x + 4*y))/32 \n",
    "        + 1/4\n",
    "    )\n",
    "    f = lambdify([x, y], amp)\n",
    "    return f(x1, y1)\n"
   ]
  },
  {
   "cell_type": "code",
   "execution_count": 4,
   "metadata": {
    "pycharm": {
     "name": "#%%\n"
    }
   },
   "outputs": [
    {
     "name": "stdout",
     "output_type": "stream",
     "text": [
      "Episode 1\tAverage Score: 0.73\n",
      "[-1.69821099  0.14848067] with reward: 0.7276366654355905\n",
      "Episode 2\tAverage Score: 0.79\n",
      "[-1.65496048  0.24532418] with reward: 0.8600664581852699\n",
      "Episode 3\tAverage Score: 0.82\n",
      "[-1.65496048  0.24532418] with reward: 0.8600664581852699\n",
      "Episode 4\tAverage Score: 0.83\n",
      "[-1.72121572  0.2733504 ] with reward: 0.8680855151898\n",
      "Episode 5\tAverage Score: 0.84\n",
      "[-1.68045489  0.2490728 ] with reward: 0.8784616388107683\n",
      "Episode 6\tAverage Score: 0.85\n",
      "[-1.70170894  0.25535625] with reward: 0.8818350491238909\n",
      "Episode 7\tAverage Score: 0.85\n",
      "[-1.69876665  0.24858923] with reward: 0.8823518183308648\n",
      "Episode 8\tAverage Score: 0.86\n",
      "[-1.69876665  0.24858923] with reward: 0.8823518183308648\n",
      "Episode 9\tAverage Score: 0.86\n",
      "[-1.69940372  0.25004743] with reward: 0.882383004506741\n",
      "Episode 10\tAverage Score: 0.86\n",
      "[-1.69911656  0.25005443] with reward: 0.8823846640727007\n",
      "Episode 11\tAverage Score: 0.86\n",
      "[-1.69899764  0.25001317] with reward: 0.8823848539527395\n",
      "Episode 12\tAverage Score: 0.86\n",
      "[-1.69899764  0.25001317] with reward: 0.8823848539527395\n",
      "Episode 13\tAverage Score: 0.87\n",
      "[-1.69900462  0.24999928] with reward: 0.8823848571503322\n",
      "Episode 14\tAverage Score: 0.87\n",
      "[-1.69900319  0.24999999] with reward: 0.8823848571704648\n",
      "Episode 15\tAverage Score: 0.87\n",
      "[-1.69900319  0.24999999] with reward: 0.8823848571704648\n",
      "Episode 16\tAverage Score: 0.87\n",
      "[-1.69900374  0.25000001] with reward: 0.8823848571713794\n",
      "Episode 17\tAverage Score: 0.87\n",
      "[-1.69900356  0.24999997] with reward: 0.8823848571718306\n",
      "Episode 18\tAverage Score: 0.87\n",
      "[-1.69900355  0.24999999] with reward: 0.8823848571718522\n",
      "Episode 19\tAverage Score: 0.87\n",
      "[-1.69900354  0.25      ] with reward: 0.8823848571718542\n",
      "Episode 20\tAverage Score: 0.87\n",
      "[-1.69900354  0.25      ] with reward: 0.8823848571718542\n",
      "Episode 21\tAverage Score: 0.87\n",
      "[-1.69900354  0.25      ] with reward: 0.8823848571718544\n",
      "Episode 22\tAverage Score: 0.87\n",
      "[-1.69900354  0.25      ] with reward: 0.8823848571718544\n",
      "Episode 23\tAverage Score: 0.87\n",
      "[-1.69900354  0.25      ] with reward: 0.8823848571718544\n",
      "Episode 24\tAverage Score: 0.87\n",
      "[-1.69900354  0.25      ] with reward: 0.8823848571718546\n",
      "Episode 25\tAverage Score: 0.87\n",
      "[-1.69900354  0.25      ] with reward: 0.8823848571718546\n",
      "Episode 26\tAverage Score: 0.87\n",
      "[-1.69900354  0.25      ] with reward: 0.8823848571718546\n",
      "Episode 27\tAverage Score: 0.87\n",
      "[-1.69900354  0.25      ] with reward: 0.8823848571718546\n",
      "Episode 28\tAverage Score: 0.87\n",
      "[-1.69900354  0.25      ] with reward: 0.8823848571718546\n",
      "Episode 29\tAverage Score: 0.87\n",
      "[-1.69900354  0.25      ] with reward: 0.8823848571718546\n",
      "Episode 30\tAverage Score: 0.88\n",
      "[-1.69900354  0.25      ] with reward: 0.8823848571718546\n"
     ]
    },
    {
     "data": {
      "image/png": "[encoded data removed]",
      "text/plain": [
       "<Figure size 432x288 with 1 Axes>"
      ]
     },
     "metadata": {
      "needs_background": "light"
     },
     "output_type": "display_data"
    }
   ],
   "source": [
    "def cem(n_iterations=30, print_every=1, pop_size=50, elite_frac=0.2):\n",
    "    n_elite=int(pop_size*elite_frac)\n",
    "\n",
    "    scores_deque = deque(maxlen=100)\n",
    "    scores = []\n",
    "    best_weight = [-1, 0]\n",
    "    mean = [-1, 0]\n",
    "    cov = [[0.1, 0], [0, 0.1]] \n",
    "    for i_iteration in range(1, n_iterations+1):\n",
    "        points = np.random.multivariate_normal(mean, cov, size=pop_size)\n",
    "        points = np.concatenate((points, [best_weight]), axis=0)\n",
    "        # ys = np.random.normal(y_mean, 0.04, size=50)\n",
    "        # print(weights_pop)\n",
    "        rewards = np.array([calculate(x, y) for x, y in points])\n",
    "\n",
    "        elite_idxs = rewards.argsort()[-n_elite:]\n",
    "        elite_weights = [points[i] for i in elite_idxs]\n",
    "\n",
    "        # print(elite_weights)\n",
    "        best_weight = elite_weights[-1]\n",
    "\n",
    "        reward = calculate(*best_weight)\n",
    "        scores_deque.append(reward)\n",
    "        scores.append(reward)\n",
    "        mean = np.mean(elite_weights, axis=0)\n",
    "        cov = np.cov(np.stack((elite_weights), axis = 1))\n",
    "\n",
    "        if i_iteration % print_every == 0:\n",
    "            # print(mean)\n",
    "            # print(cov)\n",
    "            print('Episode {}\\tAverage Score: {:.2f}'.format(i_iteration, np.mean(scores_deque)))\n",
    "            print(f'{best_weight} with reward: {calculate(*best_weight)}')\n",
    "\n",
    "    return scores\n",
    "\n",
    "scores = cem()\n",
    "\n",
    "# plot the scores\n",
    "fig = plt.figure()\n",
    "ax = fig.add_subplot(111)\n",
    "plt.plot(np.arange(1, len(scores)+1), scores)\n",
    "plt.ylabel('Score')\n",
    "plt.xlabel('Episode #')\n",
    "plt.show()"
   ]
  },
  {
   "cell_type": "code",
   "execution_count": 95,
   "metadata": {
    "pycharm": {
     "name": "#%%\n"
    }
   },
   "outputs": [
    {
     "name": "stdout",
     "output_type": "stream",
     "text": [
      "[[-1.7492568  -0.41887665]\n",
      " [-1.39948657  1.0197703 ]\n",
      " [-1.42756965 -0.64481194]\n",
      " [-1.85964161 -0.07583525]\n",
      " [-0.64997147  0.28281554]\n",
      " [-0.87279722  0.32623821]\n",
      " [-1.25009165  0.22612605]\n",
      " [-1.50392018  1.04851025]\n",
      " [-1.22328637 -0.22196682]\n",
      " [-0.68457345 -0.32581546]\n",
      " [-1.          0.        ]]\n"
     ]
    }
   ],
   "source": [
    "mean = [-1, 0]\n",
    "cov = [[0.1, 0], [0, 0.5]] \n",
    "points = np.random.multivariate_normal(mean, cov, size=10)\n",
    "points = np.concatenate((points, [[-1, 0]]), axis=0)\n",
    "print(points)"
   ]
  },
  {
   "cell_type": "code",
   "execution_count": null,
   "metadata": {
    "pycharm": {
     "name": "#%%\n"
    }
   },
   "outputs": [],
   "source": []
  }
 ],
 "metadata": {
  "anaconda-cloud": {},
  "interpreter": {
   "hash": "3dca393fb93075eb34c4c576f4ebcbc504fe769037e6c6879093289a036c4f23"
  },
  "kernelspec": {
   "display_name": "Python 3.10.4 ('venv': venv)",
   "language": "python",
   "name": "python3"
  },
  "language_info": {
   "codemirror_mode": {
    "name": "ipython",
    "version": 3
   },
   "file_extension": ".py",
   "mimetype": "text/x-python",
   "name": "python",
   "nbconvert_exporter": "python",
   "pygments_lexer": "ipython3",
   "version": "3.10.4"
  }
 },
 "nbformat": 4,
 "nbformat_minor": 2
}
