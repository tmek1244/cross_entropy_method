{
 "cells": [
  {
   "cell_type": "markdown",
   "metadata": {},
   "source": [
    "## TSP problem"
   ]
  },
  {
   "cell_type": "code",
   "execution_count": 41,
   "metadata": {},
   "outputs": [],
   "source": [
    "from QAOA.optimizers.CEM import CEM\n",
    "from QAOA.problems.TSP import QAOA_TSP\n",
    "from QAOA.problem_solver import ProblemSolver"
   ]
  },
  {
   "cell_type": "code",
   "execution_count": 44,
   "metadata": {},
   "outputs": [],
   "source": [
    "import pennylane as qml\n",
    "\n",
    "\n",
    "tsp = QAOA_TSP(\n",
    "    number_of_cities=3,\n",
    "    number_of_layers=6,\n",
    "    optimization_steps=70,\n",
    "    # optimizer=qml.GradientDescentOptimizer(stepsize=0.01)\n",
    "    optimizer=qml.AdamOptimizer(\n",
    "        stepsize=0.01,\n",
    "        beta1=0.9,\n",
    "        beta2=0.99\n",
    "    )\n",
    ")\n",
    "# cem = CEM(\n",
    "#     problem=tsp,\n",
    "#     epochs=10,\n",
    "#     samples_per_epoch=100,\n",
    "#     elite_frac=0.1,\n",
    "#     process=6\n",
    "# )\n",
    "\n",
    "# cem.minimize(init_weights=[1, 1, 1])"
   ]
  },
  {
   "cell_type": "code",
   "execution_count": 45,
   "metadata": {},
   "outputs": [],
   "source": [
    "solver = ProblemSolver(tsp, qml.AdamOptimizer(stepsize=0.50))"
   ]
  },
  {
   "cell_type": "code",
   "execution_count": null,
   "metadata": {},
   "outputs": [],
   "source": [
    "solver.run_learning([4, 1, 1], 1)"
   ]
  },
  {
   "cell_type": "markdown",
   "metadata": {},
   "source": [
    "## Knapsack problem"
   ]
  },
  {
   "cell_type": "code",
   "execution_count": 59,
   "metadata": {},
   "outputs": [
    {
     "name": "stdout",
     "output_type": "stream",
     "text": [
      "The autoreload extension is already loaded. To reload it, use:\n",
      "  %reload_ext autoreload\n"
     ]
    }
   ],
   "source": [
    "%load_ext autoreload\n",
    "%autoreload 2"
   ]
  },
  {
   "cell_type": "code",
   "execution_count": 65,
   "metadata": {},
   "outputs": [],
   "source": [
    "from QAOA.QAOA_problems.Knapsack import Knapsack, QAOA_Knapsack\n",
    "from QAOA.optimizers.CEM import CEM\n",
    "from QAOA.optimizers.qml_gradient_descent import QmlGradientDescent\n",
    "# from QAOA.problem_solver import ProblemSolver\n",
    "\n",
    "import pennylane as qml\n",
    "import numpy as np"
   ]
  },
  {
   "cell_type": "code",
   "execution_count": 66,
   "metadata": {},
   "outputs": [],
   "source": [
    "knapsack = Knapsack(max_weight=2)\n",
    "knapsack.set_knapsack([(2, 2), (3, 1)])"
   ]
  },
  {
   "cell_type": "code",
   "execution_count": 67,
   "metadata": {},
   "outputs": [],
   "source": [
    "knapsack_qaoa = QAOA_Knapsack(\n",
    "    knapsack, \n",
    "    # layers=3\n",
    "    # number_of_layers=2, \n",
    "    # optimization_steps=200, \n",
    "    # optimizer=qml.AdagradOptimizer(stepsize=0.50)\n",
    "    # optimizer=qml.GradientDescentOptimizer(stepsize=0.01)\n",
    ")"
   ]
  },
  {
   "cell_type": "code",
   "execution_count": 68,
   "metadata": {},
   "outputs": [
    {
     "name": "stdout",
     "output_type": "stream",
     "text": [
      "Key: 1001 with probability 0.2868921414050237   | correct: True, value: 2\n",
      "Key: 1011 with probability 0.12636864081407279   | correct: False\n",
      "Key: 0000 with probability 0.12034320498414636   | correct: True, value: 0\n",
      "Key: 0010 with probability 0.10792226893811545   | correct: False\n",
      "Key: 0001 with probability 0.08008819629313235   | correct: False\n",
      "Key: 0111 with probability 0.07493252584948648   | correct: False\n",
      "Key: 0110 with probability 0.0419789271553169   | correct: False\n",
      "Key: 0101 with probability 0.039230260186012514   | correct: False\n",
      "Key: 1010 with probability 0.030534652790292723   | correct: False\n",
      "Key: 1101 with probability 0.026835917746802242   | correct: False\n",
      "Key: 1111 with probability 0.01657474833900035   | correct: False\n",
      "Key: 0011 with probability 0.015600905687967563   | correct: False\n",
      "Key: 1000 with probability 0.01485598977374968   | correct: False\n",
      "Key: 0100 with probability 0.012043757476370775   | correct: False\n",
      "Key: 1110 with probability 0.005105959127725542   | correct: False\n",
      "Key: 1100 with probability 0.0006919034327805701   | correct: False\n"
     ]
    }
   ],
   "source": [
    "optimizer = QmlGradientDescent(100, qml.AdamOptimizer(stepsize=0.05))\n",
    "hyperparams = {\"weights\": [4, 1], \"layers\": 3}\n",
    "optimizer.set_func_from_problem(knapsack_qaoa, hyperparams)\n",
    "params = optimizer.minimize([[0.5]*3, [0.5]*3])\n",
    "probs = knapsack_qaoa.get_probs_func(**hyperparams)(params)\n",
    "knapsack_qaoa.print_results(probs)"
   ]
  },
  {
   "cell_type": "code",
   "execution_count": 82,
   "metadata": {},
   "outputs": [
    {
     "name": "stdout",
     "output_type": "stream",
     "text": [
      "[[2.11864648 0.77254236 1.25386666]\n",
      " [0.82679429 2.04324415 2.24312847]]\n",
      "Epoch 1\tAverage Elite Score: -0.31252207280875677\tAverage Score: -0.09085319582821835\n",
      "[[2.11864648 0.77254236 1.25386666]\n",
      " [0.82679429 2.04324415 2.24312847]] with reward: -0.31252207280875677\n",
      "[[2.11864648 0.77254236 1.25386666]\n",
      " [0.82679429 2.04324415 2.24312847]]\n",
      "Epoch 2\tAverage Elite Score: -0.31252207280875677\tAverage Score: -0.31252207280875677\n",
      "[[2.11864648 0.77254236 1.25386666]\n",
      " [0.82679429 2.04324415 2.24312847]] with reward: -0.31252207280875677\n",
      "[[2.11864648 0.77254236 1.25386666]\n",
      " [0.82679429 2.04324415 2.24312847]]\n",
      "Epoch 3\tAverage Elite Score: -0.31252207280875677\tAverage Score: -0.31252207280875677\n",
      "[[2.11864648 0.77254236 1.25386666]\n",
      " [0.82679429 2.04324415 2.24312847]] with reward: -0.31252207280875677\n",
      "[[2.11864648 0.77254236 1.25386666]\n",
      " [0.82679429 2.04324415 2.24312847]]\n",
      "Epoch 4\tAverage Elite Score: -0.31252207280875677\tAverage Score: -0.31252207280875677\n",
      "[[2.11864648 0.77254236 1.25386666]\n",
      " [0.82679429 2.04324415 2.24312847]] with reward: -0.31252207280875677\n",
      "[[2.11864648 0.77254236 1.25386666]\n",
      " [0.82679429 2.04324415 2.24312847]]\n",
      "Epoch 5\tAverage Elite Score: -0.31252207280875677\tAverage Score: -0.31252207280875677\n",
      "[[2.11864648 0.77254236 1.25386666]\n",
      " [0.82679429 2.04324415 2.24312847]] with reward: -0.31252207280875677\n",
      "[[2.11864648 0.77254236 1.25386666]\n",
      " [0.82679429 2.04324415 2.24312847]]\n",
      "Epoch 6\tAverage Elite Score: -0.31252207280875677\tAverage Score: -0.31252207280875677\n",
      "[[2.11864648 0.77254236 1.25386666]\n",
      " [0.82679429 2.04324415 2.24312847]] with reward: -0.31252207280875677\n",
      "[[2.11864648 0.77254236 1.25386666]\n",
      " [0.82679429 2.04324415 2.24312847]]\n",
      "Epoch 7\tAverage Elite Score: -0.31252207280875677\tAverage Score: -0.31252207280875677\n",
      "[[2.11864648 0.77254236 1.25386666]\n",
      " [0.82679429 2.04324415 2.24312847]] with reward: -0.31252207280875677\n",
      "[[2.11864648 0.77254236 1.25386666]\n",
      " [0.82679429 2.04324415 2.24312847]]\n",
      "Epoch 8\tAverage Elite Score: -0.31252207280875677\tAverage Score: -0.31252207280875677\n",
      "[[2.11864648 0.77254236 1.25386666]\n",
      " [0.82679429 2.04324415 2.24312847]] with reward: -0.31252207280875677\n",
      "[[2.11864648 0.77254236 1.25386666]\n",
      " [0.82679429 2.04324415 2.24312847]]\n",
      "Epoch 9\tAverage Elite Score: -0.31252207280875677\tAverage Score: -0.31252207280875677\n",
      "[[2.11864648 0.77254236 1.25386666]\n",
      " [0.82679429 2.04324415 2.24312847]] with reward: -0.31252207280875677\n",
      "[[2.11864648 0.77254236 1.25386666]\n",
      " [0.82679429 2.04324415 2.24312847]]\n",
      "Epoch 10\tAverage Elite Score: -0.31252207280875677\tAverage Score: -0.31252207280875677\n",
      "[[2.11864648 0.77254236 1.25386666]\n",
      " [0.82679429 2.04324415 2.24312847]] with reward: -0.31252207280875677\n",
      "Key: 0011 with probability 0.20002463574341026   | correct: False\n",
      "Key: 1001 with probability 0.15626103640437838   | correct: True, value: 2\n",
      "Key: 0010 with probability 0.11538899134064318   | correct: False\n",
      "Key: 1010 with probability 0.10237696958835393   | correct: False\n",
      "Key: 1100 with probability 0.0987363734941697   | correct: False\n",
      "Key: 0101 with probability 0.07561573303097222   | correct: False\n",
      "Key: 0001 with probability 0.05955633496389458   | correct: False\n",
      "Key: 0111 with probability 0.049671702816954794   | correct: False\n",
      "Key: 0000 with probability 0.04956958624834301   | correct: True, value: 0\n",
      "Key: 0100 with probability 0.034599286136620416   | correct: False\n",
      "Key: 1000 with probability 0.029910476665758925   | correct: False\n",
      "Key: 0110 with probability 0.009076452786827829   | correct: False\n",
      "Key: 1101 with probability 0.007858884408557292   | correct: False\n",
      "Key: 1011 with probability 0.007134081937938046   | correct: False\n",
      "Key: 1111 with probability 0.004086678191056446   | correct: False\n",
      "Key: 1110 with probability 0.0001327762421162301   | correct: False\n"
     ]
    }
   ],
   "source": [
    "optimizer = CEM(epochs=10, samples_per_epoch=10)\n",
    "hyperparams = {\"weights\": [4, 1], \"layers\": 3}\n",
    "optimizer.set_func_from_problem(knapsack_qaoa, hyperparams)\n",
    "params = optimizer.minimize(np.array([[0.5]*3, [0.5]*3]))\n",
    "probs = knapsack_qaoa.get_probs_func(**hyperparams)(params)\n",
    "knapsack_qaoa.print_results(probs)"
   ]
  },
  {
   "cell_type": "code",
   "execution_count": 5,
   "metadata": {},
   "outputs": [],
   "source": [
    "solver = ProblemSolver(knapsack_qaoa, qml.AdamOptimizer(stepsize=0.50))"
   ]
  },
  {
   "cell_type": "code",
   "execution_count": 6,
   "metadata": {},
   "outputs": [
    {
     "data": {
      "text/plain": [
       "(tensor([[ 2.07225667],\n",
       "         [13.99128126]], requires_grad=True),\n",
       " tensor([0.05912193, 0.26245265, 0.06660304, 0.02576167, 0.0252872 ,\n",
       "         0.06769731, 0.00445439, 0.01978466, 0.12371263, 0.01262926,\n",
       "         0.04060735, 0.09091908, 0.1026911 , 0.07340681, 0.00914174,\n",
       "         0.01572918], requires_grad=True))"
      ]
     },
     "execution_count": 6,
     "metadata": {},
     "output_type": "execute_result"
    }
   ],
   "source": [
    "solver.run_learning([4, 1])"
   ]
  },
  {
   "cell_type": "code",
   "execution_count": 7,
   "metadata": {},
   "outputs": [
    {
     "name": "stdout",
     "output_type": "stream",
     "text": [
      "Epoch 1\tAverage Elite Score: -0.44609163697469095\tAverage Score: -0.1829265051200329\n",
      "[2.0457663295777193, 0.3885538357010436] with reward: -0.7477599575486572\n"
     ]
    },
    {
     "ename": "KeyboardInterrupt",
     "evalue": "",
     "output_type": "error",
     "traceback": [
      "\u001b[0;31m---------------------------------------------------------------------------\u001b[0m",
      "\u001b[0;31mKeyboardInterrupt\u001b[0m                         Traceback (most recent call last)",
      "\u001b[1;32m/home/tmek1244/cyfronet/cross_entropy_method/main.ipynb Cell 13\u001b[0m in \u001b[0;36m<cell line: 9>\u001b[0;34m()\u001b[0m\n\u001b[1;32m      <a href='vscode-notebook-cell:/home/tmek1244/cyfronet/cross_entropy_method/main.ipynb#X11sZmlsZQ%3D%3D?line=0'>1</a>\u001b[0m cem \u001b[39m=\u001b[39m CEM(\n\u001b[1;32m      <a href='vscode-notebook-cell:/home/tmek1244/cyfronet/cross_entropy_method/main.ipynb#X11sZmlsZQ%3D%3D?line=1'>2</a>\u001b[0m     solver\u001b[39m=\u001b[39msolver,\n\u001b[1;32m      <a href='vscode-notebook-cell:/home/tmek1244/cyfronet/cross_entropy_method/main.ipynb#X11sZmlsZQ%3D%3D?line=2'>3</a>\u001b[0m     epochs\u001b[39m=\u001b[39m\u001b[39m10\u001b[39m,\n\u001b[0;32m   (...)\u001b[0m\n\u001b[1;32m      <a href='vscode-notebook-cell:/home/tmek1244/cyfronet/cross_entropy_method/main.ipynb#X11sZmlsZQ%3D%3D?line=5'>6</a>\u001b[0m     process\u001b[39m=\u001b[39m\u001b[39m6\u001b[39m\n\u001b[1;32m      <a href='vscode-notebook-cell:/home/tmek1244/cyfronet/cross_entropy_method/main.ipynb#X11sZmlsZQ%3D%3D?line=6'>7</a>\u001b[0m )\n\u001b[0;32m----> <a href='vscode-notebook-cell:/home/tmek1244/cyfronet/cross_entropy_method/main.ipynb#X11sZmlsZQ%3D%3D?line=8'>9</a>\u001b[0m cem\u001b[39m.\u001b[39;49mminimize(\n\u001b[1;32m     <a href='vscode-notebook-cell:/home/tmek1244/cyfronet/cross_entropy_method/main.ipynb#X11sZmlsZQ%3D%3D?line=9'>10</a>\u001b[0m     init_weights\u001b[39m=\u001b[39;49m[\u001b[39m1\u001b[39;49m, \u001b[39m1\u001b[39;49m], \n\u001b[1;32m     <a href='vscode-notebook-cell:/home/tmek1244/cyfronet/cross_entropy_method/main.ipynb#X11sZmlsZQ%3D%3D?line=10'>11</a>\u001b[0m     \u001b[39m# mean=[2.0345243512510995, 2.942750372594455]\u001b[39;49;00m\n\u001b[1;32m     <a href='vscode-notebook-cell:/home/tmek1244/cyfronet/cross_entropy_method/main.ipynb#X11sZmlsZQ%3D%3D?line=11'>12</a>\u001b[0m )\n",
      "File \u001b[0;32m~/cyfronet/cross_entropy_method/QAOA/optimizers/CEM.py:73\u001b[0m, in \u001b[0;36mCEM.minimize\u001b[0;34m(self, init_weights, mean, cov)\u001b[0m\n\u001b[1;32m     69\u001b[0m \u001b[39m# rewards = np.array(\u001b[39;00m\n\u001b[1;32m     70\u001b[0m \u001b[39m#     [self.problem.run_learning_n_get_results(list(point)) for point in points])\u001b[39;00m\n\u001b[1;32m     72\u001b[0m \u001b[39mwith\u001b[39;00m mp\u001b[39m.\u001b[39mPool(processes\u001b[39m=\u001b[39m\u001b[39mself\u001b[39m\u001b[39m.\u001b[39mprocess) \u001b[39mas\u001b[39;00m p:\n\u001b[0;32m---> 73\u001b[0m     results \u001b[39m=\u001b[39m p\u001b[39m.\u001b[39;49mmap(\u001b[39mself\u001b[39;49m\u001b[39m.\u001b[39;49msolver\u001b[39m.\u001b[39;49mget_score, points)\n\u001b[1;32m     75\u001b[0m rewards \u001b[39m=\u001b[39m np\u001b[39m.\u001b[39marray([result \u001b[39mfor\u001b[39;00m result \u001b[39min\u001b[39;00m results])\n\u001b[1;32m     77\u001b[0m elite_idxs \u001b[39m=\u001b[39m rewards\u001b[39m.\u001b[39margsort()[:\u001b[39mself\u001b[39m\u001b[39m.\u001b[39mn_elite]\n",
      "File \u001b[0;32m/usr/lib/python3.10/multiprocessing/pool.py:367\u001b[0m, in \u001b[0;36mPool.map\u001b[0;34m(self, func, iterable, chunksize)\u001b[0m\n\u001b[1;32m    362\u001b[0m \u001b[39mdef\u001b[39;00m \u001b[39mmap\u001b[39m(\u001b[39mself\u001b[39m, func, iterable, chunksize\u001b[39m=\u001b[39m\u001b[39mNone\u001b[39;00m):\n\u001b[1;32m    363\u001b[0m     \u001b[39m'''\u001b[39;00m\n\u001b[1;32m    364\u001b[0m \u001b[39m    Apply `func` to each element in `iterable`, collecting the results\u001b[39;00m\n\u001b[1;32m    365\u001b[0m \u001b[39m    in a list that is returned.\u001b[39;00m\n\u001b[1;32m    366\u001b[0m \u001b[39m    '''\u001b[39;00m\n\u001b[0;32m--> 367\u001b[0m     \u001b[39mreturn\u001b[39;00m \u001b[39mself\u001b[39;49m\u001b[39m.\u001b[39;49m_map_async(func, iterable, mapstar, chunksize)\u001b[39m.\u001b[39;49mget()\n",
      "File \u001b[0;32m/usr/lib/python3.10/multiprocessing/pool.py:768\u001b[0m, in \u001b[0;36mApplyResult.get\u001b[0;34m(self, timeout)\u001b[0m\n\u001b[1;32m    767\u001b[0m \u001b[39mdef\u001b[39;00m \u001b[39mget\u001b[39m(\u001b[39mself\u001b[39m, timeout\u001b[39m=\u001b[39m\u001b[39mNone\u001b[39;00m):\n\u001b[0;32m--> 768\u001b[0m     \u001b[39mself\u001b[39;49m\u001b[39m.\u001b[39;49mwait(timeout)\n\u001b[1;32m    769\u001b[0m     \u001b[39mif\u001b[39;00m \u001b[39mnot\u001b[39;00m \u001b[39mself\u001b[39m\u001b[39m.\u001b[39mready():\n\u001b[1;32m    770\u001b[0m         \u001b[39mraise\u001b[39;00m \u001b[39mTimeoutError\u001b[39;00m\n",
      "File \u001b[0;32m/usr/lib/python3.10/multiprocessing/pool.py:765\u001b[0m, in \u001b[0;36mApplyResult.wait\u001b[0;34m(self, timeout)\u001b[0m\n\u001b[1;32m    764\u001b[0m \u001b[39mdef\u001b[39;00m \u001b[39mwait\u001b[39m(\u001b[39mself\u001b[39m, timeout\u001b[39m=\u001b[39m\u001b[39mNone\u001b[39;00m):\n\u001b[0;32m--> 765\u001b[0m     \u001b[39mself\u001b[39;49m\u001b[39m.\u001b[39;49m_event\u001b[39m.\u001b[39;49mwait(timeout)\n",
      "File \u001b[0;32m/usr/lib/python3.10/threading.py:607\u001b[0m, in \u001b[0;36mEvent.wait\u001b[0;34m(self, timeout)\u001b[0m\n\u001b[1;32m    605\u001b[0m signaled \u001b[39m=\u001b[39m \u001b[39mself\u001b[39m\u001b[39m.\u001b[39m_flag\n\u001b[1;32m    606\u001b[0m \u001b[39mif\u001b[39;00m \u001b[39mnot\u001b[39;00m signaled:\n\u001b[0;32m--> 607\u001b[0m     signaled \u001b[39m=\u001b[39m \u001b[39mself\u001b[39;49m\u001b[39m.\u001b[39;49m_cond\u001b[39m.\u001b[39;49mwait(timeout)\n\u001b[1;32m    608\u001b[0m \u001b[39mreturn\u001b[39;00m signaled\n",
      "File \u001b[0;32m/usr/lib/python3.10/threading.py:320\u001b[0m, in \u001b[0;36mCondition.wait\u001b[0;34m(self, timeout)\u001b[0m\n\u001b[1;32m    318\u001b[0m \u001b[39mtry\u001b[39;00m:    \u001b[39m# restore state no matter what (e.g., KeyboardInterrupt)\u001b[39;00m\n\u001b[1;32m    319\u001b[0m     \u001b[39mif\u001b[39;00m timeout \u001b[39mis\u001b[39;00m \u001b[39mNone\u001b[39;00m:\n\u001b[0;32m--> 320\u001b[0m         waiter\u001b[39m.\u001b[39;49macquire()\n\u001b[1;32m    321\u001b[0m         gotit \u001b[39m=\u001b[39m \u001b[39mTrue\u001b[39;00m\n\u001b[1;32m    322\u001b[0m     \u001b[39melse\u001b[39;00m:\n",
      "\u001b[0;31mKeyboardInterrupt\u001b[0m: "
     ]
    }
   ],
   "source": [
    "cem = CEM(\n",
    "    solver=solver,\n",
    "    epochs=10,\n",
    "    samples_per_epoch=100,\n",
    "    elite_frac=0.1,\n",
    "    process=6\n",
    ")\n",
    "\n",
    "cem.minimize(\n",
    "    init_weights=[1, 1], \n",
    "    # mean=[2.0345243512510995, 2.942750372594455]\n",
    ")"
   ]
  },
  {
   "cell_type": "code",
   "execution_count": 13,
   "metadata": {},
   "outputs": [
    {
     "name": "stdout",
     "output_type": "stream",
     "text": [
      "Epoch 1\tAverage Elite Score: -0.3825633806073557\tAverage Score: -0.12373419129605781\n",
      "[-7.147861346391355, 9.347924610995836] with reward: -0.5678048497728833\n",
      "Epoch 2\tAverage Elite Score: -0.362932978179451\tAverage Score: -0.11454479002779813\n",
      "[6.689794925041902, -3.8811813854420674] with reward: -0.569855744441671\n",
      "Epoch 3\tAverage Elite Score: -0.4507558604393235\tAverage Score: -0.14094499255572637\n",
      "[6.689794925041902, -3.8811813854420674] with reward: -0.569855744441671\n",
      "Epoch 4\tAverage Elite Score: -0.3481713818898989\tAverage Score: -0.12556784882292085\n",
      "[6.689794925041902, -3.8811813854420674] with reward: -0.569855744441671\n",
      "Epoch 5\tAverage Elite Score: -0.37607816600768434\tAverage Score: -0.12379451838521603\n",
      "[6.689794925041902, -3.8811813854420674] with reward: -0.569855744441671\n",
      "Epoch 6\tAverage Elite Score: -0.3731710878383884\tAverage Score: -0.1147461320326705\n",
      "[6.689794925041902, -3.8811813854420674] with reward: -0.569855744441671\n",
      "Epoch 7\tAverage Elite Score: -0.4510509117545601\tAverage Score: -0.14105842808153632\n",
      "[-4.575296603491294, -0.9036316684903625] with reward: -0.6954374500213331\n",
      "Epoch 8\tAverage Elite Score: -0.43774602562087106\tAverage Score: -0.1458408146221893\n",
      "[-4.575296603491294, -0.9036316684903625] with reward: -0.6954374500213331\n",
      "Epoch 9\tAverage Elite Score: -0.4075116944758669\tAverage Score: -0.13028848617762842\n",
      "[-4.575296603491294, -0.9036316684903625] with reward: -0.6954374500213331\n",
      "Epoch 10\tAverage Elite Score: -0.4425664179853185\tAverage Score: -0.14563735788635593\n",
      "[-4.575296603491294, -0.9036316684903625] with reward: -0.6954374500213331\n"
     ]
    },
    {
     "data": {
      "text/plain": [
       "[-4.575296603491294, -0.9036316684903625]"
      ]
     },
     "execution_count": 13,
     "metadata": {},
     "output_type": "execute_result"
    }
   ],
   "source": [
    "cem.randomize(init_weights=[1, 1])"
   ]
  },
  {
   "cell_type": "code",
   "execution_count": 16,
   "metadata": {},
   "outputs": [
    {
     "name": "stdout",
     "output_type": "stream",
     "text": [
      "Key: 101 with probability 0.5851258230403462   | correct: True, value: 2\n",
      "Key: 111 with probability 0.23010160440914704   | correct: False\n",
      "Key: 001 with probability 0.06187830273109165   | correct: False\n",
      "Key: 011 with probability 0.05841408055146326   | correct: True, value: 1\n",
      "Key: 100 with probability 0.03178243587187642   | correct: False\n",
      "Key: 000 with probability 0.01852700194629529   | correct: True, value: 0\n",
      "Key: 110 with probability 0.008241419311877003   | correct: False\n",
      "Key: 010 with probability 0.005929332137900813   | correct: False\n"
     ]
    }
   ],
   "source": [
    "knapsack_qaoa.print_results([5.876428961941668, 1.9278045693719936])"
   ]
  },
  {
   "cell_type": "code",
   "execution_count": 15,
   "metadata": {},
   "outputs": [
    {
     "name": "stdout",
     "output_type": "stream",
     "text": [
      "0: ──H──MultiRZ(1.00)─╭MultiRZ(1.00)─╭MultiRZ(-1.00)──H───────────────MultiRZ(1.00)──H────────────\n",
      "1: ──H────────────────╰MultiRZ(1.00)─│───────────────╭MultiRZ(-1.00)──H──────────────MultiRZ(1.00)\n",
      "2: ──H──MultiRZ(2.00)────────────────╰MultiRZ(-1.00)─╰MultiRZ(-1.00)──H──────────────MultiRZ(1.00)\n",
      "\n",
      "─────┤ ╭<𝓗>\n",
      "───H─┤ ├<𝓗>\n",
      "───H─┤ ╰<𝓗>\n"
     ]
    }
   ],
   "source": [
    "import pennylane as qml\n",
    "\n",
    "def _create_mixing_hamitonian(const=1/2):\n",
    "    hamiltonian = qml.Identity(0)\n",
    "    for i in range(3):\n",
    "        hamiltonian += qml.Hamiltonian([const], [qml.PauliX(i)])\n",
    "    return hamiltonian\n",
    "    \n",
    "\n",
    "cost_operator = knapsack_qaoa._create_cost_operator((1, 1))\n",
    "def qaoa_layer(gamma, beta):\n",
    "    qml.qaoa.cost_layer(gamma, cost_operator)\n",
    "    qml.qaoa.mixer_layer(beta, _create_mixing_hamitonian())\n",
    "\n",
    "def hadamard_layer(wires):\n",
    "    for i in range(wires):\n",
    "        qml.Hadamard(i)\n",
    "\n",
    "def circuit(params, n_layers=2):\n",
    "    hadamard_layer(3)\n",
    "    qml.layer(qaoa_layer, n_layers, params[0], params[1])\n",
    "\n",
    "dev = qml.device(\"default.qubit\", wires=3)\n",
    "\n",
    "\n",
    "@qml.qnode(dev)\n",
    "def cost_function(params):\n",
    "    circuit(params, n_layers=1)\n",
    "    x = qml.expval(cost_operator)\n",
    "    return x\n",
    "\n",
    "# fig, ax = qml.draw_mpl(cost_function, expansion_strategy=\"device\")([[1], [2]])\n",
    "# fig.show()\n",
    "print(qml.draw(cost_function, expansion_strategy=\"device\")([[1], [1]]))"
   ]
  },
  {
   "cell_type": "code",
   "execution_count": 21,
   "metadata": {},
   "outputs": [
    {
     "name": "stdout",
     "output_type": "stream",
     "text": [
      "6.222222222222221\n",
      "[[8 4 2]\n",
      " [2 1 0]]\n",
      "[4.66666667 1.        ]\n",
      "[[6.22222222 2.        ]\n",
      " [2.         0.66666667]]\n"
     ]
    }
   ],
   "source": [
    "import numpy as np\n",
    "\n",
    "\n",
    "elite_weights = [[8,2], [4,1], [2,0]]\n",
    "print(np.var([8, 4, 2]))\n",
    "_mean = np.mean(elite_weights, axis=0)\n",
    "print(np.stack((elite_weights), axis = 1))\n",
    "_cov = np.cov(np.stack((elite_weights), axis = 1), bias=True)\n",
    "print(_mean)\n",
    "print(_cov)"
   ]
  },
  {
   "cell_type": "code",
   "execution_count": null,
   "metadata": {},
   "outputs": [],
   "source": []
  }
 ],
 "metadata": {
  "kernelspec": {
   "display_name": "Python 3.10.4 ('venv': venv)",
   "language": "python",
   "name": "python3"
  },
  "language_info": {
   "codemirror_mode": {
    "name": "ipython",
    "version": 3
   },
   "file_extension": ".py",
   "mimetype": "text/x-python",
   "name": "python",
   "nbconvert_exporter": "python",
   "pygments_lexer": "ipython3",
   "version": "3.10.6"
  },
  "orig_nbformat": 4,
  "vscode": {
   "interpreter": {
    "hash": "194d560554aca00f6e3bce42e1e7e246ef0a295a71f2572582018ad7f70a5cdf"
   }
  }
 },
 "nbformat": 4,
 "nbformat_minor": 2
}
