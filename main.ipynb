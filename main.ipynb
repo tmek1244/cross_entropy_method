{
 "cells": [
  {
   "cell_type": "markdown",
   "metadata": {},
   "source": [
    "## TSP problem"
   ]
  },
  {
   "cell_type": "code",
   "execution_count": 8,
   "metadata": {},
   "outputs": [],
   "source": [
    "from CEM_optimizer.CEM import CEM\n",
    "from CEM_optimizer.TSP import QAOA_TSP"
   ]
  },
  {
   "cell_type": "code",
   "execution_count": 1,
   "metadata": {},
   "outputs": [
    {
     "ename": "NameError",
     "evalue": "name 'QAOA_TSP' is not defined",
     "output_type": "error",
     "traceback": [
      "\u001b[0;31m---------------------------------------------------------------------------\u001b[0m",
      "\u001b[0;31mNameError\u001b[0m                                 Traceback (most recent call last)",
      "\u001b[1;32m/home/tmek1244/cyfronet/cross_entropy_method/main.ipynb Cell 3\u001b[0m in \u001b[0;36m<cell line: 4>\u001b[0;34m()\u001b[0m\n\u001b[1;32m      <a href='vscode-notebook-cell:/home/tmek1244/cyfronet/cross_entropy_method/main.ipynb#W2sZmlsZQ%3D%3D?line=0'>1</a>\u001b[0m \u001b[39mimport\u001b[39;00m \u001b[39mpennylane\u001b[39;00m \u001b[39mas\u001b[39;00m \u001b[39mqml\u001b[39;00m\n\u001b[0;32m----> <a href='vscode-notebook-cell:/home/tmek1244/cyfronet/cross_entropy_method/main.ipynb#W2sZmlsZQ%3D%3D?line=3'>4</a>\u001b[0m tsp \u001b[39m=\u001b[39m QAOA_TSP(\n\u001b[1;32m      <a href='vscode-notebook-cell:/home/tmek1244/cyfronet/cross_entropy_method/main.ipynb#W2sZmlsZQ%3D%3D?line=4'>5</a>\u001b[0m     number_of_cities\u001b[39m=\u001b[39m\u001b[39m3\u001b[39m,\n\u001b[1;32m      <a href='vscode-notebook-cell:/home/tmek1244/cyfronet/cross_entropy_method/main.ipynb#W2sZmlsZQ%3D%3D?line=5'>6</a>\u001b[0m     number_of_layers\u001b[39m=\u001b[39m\u001b[39m6\u001b[39m,\n\u001b[1;32m      <a href='vscode-notebook-cell:/home/tmek1244/cyfronet/cross_entropy_method/main.ipynb#W2sZmlsZQ%3D%3D?line=6'>7</a>\u001b[0m     optimization_steps\u001b[39m=\u001b[39m\u001b[39m70\u001b[39m,\n\u001b[1;32m      <a href='vscode-notebook-cell:/home/tmek1244/cyfronet/cross_entropy_method/main.ipynb#W2sZmlsZQ%3D%3D?line=7'>8</a>\u001b[0m     optimizer\u001b[39m=\u001b[39mqml\u001b[39m.\u001b[39mGradientDescentOptimizer(stepsize\u001b[39m=\u001b[39m\u001b[39m0.01\u001b[39m)\n\u001b[1;32m      <a href='vscode-notebook-cell:/home/tmek1244/cyfronet/cross_entropy_method/main.ipynb#W2sZmlsZQ%3D%3D?line=8'>9</a>\u001b[0m     \u001b[39m# optimizer=qml.AdamOptimizer(\u001b[39;00m\n\u001b[1;32m     <a href='vscode-notebook-cell:/home/tmek1244/cyfronet/cross_entropy_method/main.ipynb#W2sZmlsZQ%3D%3D?line=9'>10</a>\u001b[0m     \u001b[39m#     stepsize=0.01,\u001b[39;00m\n\u001b[1;32m     <a href='vscode-notebook-cell:/home/tmek1244/cyfronet/cross_entropy_method/main.ipynb#W2sZmlsZQ%3D%3D?line=10'>11</a>\u001b[0m     \u001b[39m#     beta1=0.9,\u001b[39;00m\n\u001b[1;32m     <a href='vscode-notebook-cell:/home/tmek1244/cyfronet/cross_entropy_method/main.ipynb#W2sZmlsZQ%3D%3D?line=11'>12</a>\u001b[0m     \u001b[39m#     beta2=0.99\u001b[39;00m\n\u001b[1;32m     <a href='vscode-notebook-cell:/home/tmek1244/cyfronet/cross_entropy_method/main.ipynb#W2sZmlsZQ%3D%3D?line=12'>13</a>\u001b[0m     \u001b[39m# )\u001b[39;00m\n\u001b[1;32m     <a href='vscode-notebook-cell:/home/tmek1244/cyfronet/cross_entropy_method/main.ipynb#W2sZmlsZQ%3D%3D?line=13'>14</a>\u001b[0m )\n\u001b[1;32m     <a href='vscode-notebook-cell:/home/tmek1244/cyfronet/cross_entropy_method/main.ipynb#W2sZmlsZQ%3D%3D?line=14'>15</a>\u001b[0m cem \u001b[39m=\u001b[39m CEM(\n\u001b[1;32m     <a href='vscode-notebook-cell:/home/tmek1244/cyfronet/cross_entropy_method/main.ipynb#W2sZmlsZQ%3D%3D?line=15'>16</a>\u001b[0m     problem\u001b[39m=\u001b[39mtsp,\n\u001b[1;32m     <a href='vscode-notebook-cell:/home/tmek1244/cyfronet/cross_entropy_method/main.ipynb#W2sZmlsZQ%3D%3D?line=16'>17</a>\u001b[0m     epochs\u001b[39m=\u001b[39m\u001b[39m10\u001b[39m,\n\u001b[0;32m   (...)\u001b[0m\n\u001b[1;32m     <a href='vscode-notebook-cell:/home/tmek1244/cyfronet/cross_entropy_method/main.ipynb#W2sZmlsZQ%3D%3D?line=19'>20</a>\u001b[0m     process\u001b[39m=\u001b[39m\u001b[39m6\u001b[39m\n\u001b[1;32m     <a href='vscode-notebook-cell:/home/tmek1244/cyfronet/cross_entropy_method/main.ipynb#W2sZmlsZQ%3D%3D?line=20'>21</a>\u001b[0m )\n\u001b[1;32m     <a href='vscode-notebook-cell:/home/tmek1244/cyfronet/cross_entropy_method/main.ipynb#W2sZmlsZQ%3D%3D?line=22'>23</a>\u001b[0m cem\u001b[39m.\u001b[39mminimize(init_weights\u001b[39m=\u001b[39m[\u001b[39m1\u001b[39m, \u001b[39m1\u001b[39m, \u001b[39m1\u001b[39m])\n",
      "\u001b[0;31mNameError\u001b[0m: name 'QAOA_TSP' is not defined"
     ]
    }
   ],
   "source": [
    "import pennylane as qml\n",
    "\n",
    "\n",
    "tsp = QAOA_TSP(\n",
    "    number_of_cities=3,\n",
    "    number_of_layers=6,\n",
    "    optimization_steps=70,\n",
    "    # optimizer=qml.GradientDescentOptimizer(stepsize=0.01)\n",
    "    optimizer=qml.AdamOptimizer(\n",
    "        stepsize=0.01,\n",
    "        beta1=0.9,\n",
    "        beta2=0.99\n",
    "    )\n",
    ")\n",
    "cem = CEM(\n",
    "    problem=tsp,\n",
    "    epochs=10,\n",
    "    samples_per_epoch=100,\n",
    "    elite_frac=0.1,\n",
    "    process=6\n",
    ")\n",
    "\n",
    "cem.minimize(init_weights=[1, 1, 1])"
   ]
  },
  {
   "cell_type": "markdown",
   "metadata": {},
   "source": [
    "## Knapsack problem"
   ]
  },
  {
   "cell_type": "code",
   "execution_count": 1,
   "metadata": {},
   "outputs": [],
   "source": [
    "%load_ext autoreload\n",
    "%autoreload 2"
   ]
  },
  {
   "cell_type": "code",
   "execution_count": 2,
   "metadata": {},
   "outputs": [],
   "source": [
    "from CEM_optimizer.Knapsack import Knapsack, QAOA_Knapsack\n",
    "from CEM_optimizer.CEM import CEM\n",
    "\n",
    "import pennylane as qml"
   ]
  },
  {
   "cell_type": "code",
   "execution_count": 10,
   "metadata": {},
   "outputs": [],
   "source": [
    "knapsack = Knapsack(max_weight=2)\n",
    "knapsack.set_knapsack([(2, 2), (3, 1)])"
   ]
  },
  {
   "cell_type": "code",
   "execution_count": 11,
   "metadata": {},
   "outputs": [],
   "source": [
    "knapsack_qaoa = QAOA_Knapsack(\n",
    "    knapsack, number_of_layers=2, \n",
    "    optimization_steps=200, \n",
    "    # optimizer=qml.AdagradOptimizer(stepsize=0.50)\n",
    "    optimizer=qml.GradientDescentOptimizer(stepsize=0.01)\n",
    ")"
   ]
  },
  {
   "cell_type": "code",
   "execution_count": 12,
   "metadata": {},
   "outputs": [
    {
     "name": "stdout",
     "output_type": "stream",
     "text": [
      "Epoch 1\tAverage Elite Score: -0.3782899219220698\tAverage Score: -0.14434978084974592\n",
      "[0.40741604795471, 2.1311175186109237] with reward: -0.49233766576024335\n",
      "Epoch 2\tAverage Elite Score: -0.40368561470809466\tAverage Score: -0.14922080741323795\n",
      "[0.40741604795471, 2.1311175186109237] with reward: -0.49233766576024335\n",
      "Epoch 3\tAverage Elite Score: -0.424884727586422\tAverage Score: -0.17815414332045523\n",
      "[0.40741604795471, 2.1311175186109237] with reward: -0.49233766576024335\n",
      "Epoch 4\tAverage Elite Score: -0.416870943769009\tAverage Score: -0.1918462343306206\n",
      "[0.40741604795471, 2.1311175186109237] with reward: -0.49233766576024335\n",
      "Epoch 5\tAverage Elite Score: -0.4572368882655226\tAverage Score: -0.22910839074397377\n",
      "[0.40741604795471, 2.1311175186109237] with reward: -0.49233766576024335\n",
      "Epoch 6\tAverage Elite Score: -0.4694387148076492\tAverage Score: -0.30410964102442567\n",
      "[0.40741604795471, 2.1311175186109237] with reward: -0.49233766576024335\n"
     ]
    },
    {
     "ename": "KeyboardInterrupt",
     "evalue": "",
     "output_type": "error",
     "traceback": [
      "\u001b[0;31m---------------------------------------------------------------------------\u001b[0m",
      "\u001b[0;31mKeyboardInterrupt\u001b[0m                         Traceback (most recent call last)",
      "\u001b[1;32m/home/tmek1244/cyfronet/cross_entropy_method/main.ipynb Cell 9\u001b[0m in \u001b[0;36m<cell line: 9>\u001b[0;34m()\u001b[0m\n\u001b[1;32m      <a href='vscode-notebook-cell:/home/tmek1244/cyfronet/cross_entropy_method/main.ipynb#X11sZmlsZQ%3D%3D?line=0'>1</a>\u001b[0m cem \u001b[39m=\u001b[39m CEM(\n\u001b[1;32m      <a href='vscode-notebook-cell:/home/tmek1244/cyfronet/cross_entropy_method/main.ipynb#X11sZmlsZQ%3D%3D?line=1'>2</a>\u001b[0m     problem\u001b[39m=\u001b[39mknapsack_qaoa,\n\u001b[1;32m      <a href='vscode-notebook-cell:/home/tmek1244/cyfronet/cross_entropy_method/main.ipynb#X11sZmlsZQ%3D%3D?line=2'>3</a>\u001b[0m     epochs\u001b[39m=\u001b[39m\u001b[39m10\u001b[39m,\n\u001b[0;32m   (...)\u001b[0m\n\u001b[1;32m      <a href='vscode-notebook-cell:/home/tmek1244/cyfronet/cross_entropy_method/main.ipynb#X11sZmlsZQ%3D%3D?line=5'>6</a>\u001b[0m     process\u001b[39m=\u001b[39m\u001b[39m6\u001b[39m\n\u001b[1;32m      <a href='vscode-notebook-cell:/home/tmek1244/cyfronet/cross_entropy_method/main.ipynb#X11sZmlsZQ%3D%3D?line=6'>7</a>\u001b[0m )\n\u001b[0;32m----> <a href='vscode-notebook-cell:/home/tmek1244/cyfronet/cross_entropy_method/main.ipynb#X11sZmlsZQ%3D%3D?line=8'>9</a>\u001b[0m cem\u001b[39m.\u001b[39;49mminimize(\n\u001b[1;32m     <a href='vscode-notebook-cell:/home/tmek1244/cyfronet/cross_entropy_method/main.ipynb#X11sZmlsZQ%3D%3D?line=9'>10</a>\u001b[0m     init_weights\u001b[39m=\u001b[39;49m[\u001b[39m1\u001b[39;49m, \u001b[39m1\u001b[39;49m], \n\u001b[1;32m     <a href='vscode-notebook-cell:/home/tmek1244/cyfronet/cross_entropy_method/main.ipynb#X11sZmlsZQ%3D%3D?line=10'>11</a>\u001b[0m     \u001b[39m# mean=[2.0345243512510995, 2.942750372594455]\u001b[39;49;00m\n\u001b[1;32m     <a href='vscode-notebook-cell:/home/tmek1244/cyfronet/cross_entropy_method/main.ipynb#X11sZmlsZQ%3D%3D?line=11'>12</a>\u001b[0m )\n",
      "File \u001b[0;32m~/cyfronet/cross_entropy_method/CEM_optimizer/CEM.py:72\u001b[0m, in \u001b[0;36mCEM.minimize\u001b[0;34m(self, init_weights, mean, cov)\u001b[0m\n\u001b[1;32m     68\u001b[0m \u001b[39m# rewards = np.array(\u001b[39;00m\n\u001b[1;32m     69\u001b[0m \u001b[39m#     [self.problem.run_learning_n_get_results(list(point)) for point in points])\u001b[39;00m\n\u001b[1;32m     71\u001b[0m \u001b[39mwith\u001b[39;00m mp\u001b[39m.\u001b[39mPool(processes\u001b[39m=\u001b[39m\u001b[39mself\u001b[39m\u001b[39m.\u001b[39mprocess) \u001b[39mas\u001b[39;00m p:\n\u001b[0;32m---> 72\u001b[0m     results \u001b[39m=\u001b[39m p\u001b[39m.\u001b[39;49mmap(\u001b[39mself\u001b[39;49m\u001b[39m.\u001b[39;49mproblem\u001b[39m.\u001b[39;49mrun_learning_n_get_results, points)\n\u001b[1;32m     74\u001b[0m rewards \u001b[39m=\u001b[39m np\u001b[39m.\u001b[39marray([result \u001b[39mfor\u001b[39;00m result \u001b[39min\u001b[39;00m results])\n\u001b[1;32m     76\u001b[0m elite_idxs \u001b[39m=\u001b[39m rewards\u001b[39m.\u001b[39margsort()[:\u001b[39mself\u001b[39m\u001b[39m.\u001b[39mn_elite]\n",
      "File \u001b[0;32m/usr/lib/python3.10/multiprocessing/pool.py:364\u001b[0m, in \u001b[0;36mPool.map\u001b[0;34m(self, func, iterable, chunksize)\u001b[0m\n\u001b[1;32m    359\u001b[0m \u001b[39mdef\u001b[39;00m \u001b[39mmap\u001b[39m(\u001b[39mself\u001b[39m, func, iterable, chunksize\u001b[39m=\u001b[39m\u001b[39mNone\u001b[39;00m):\n\u001b[1;32m    360\u001b[0m     \u001b[39m'''\u001b[39;00m\n\u001b[1;32m    361\u001b[0m \u001b[39m    Apply `func` to each element in `iterable`, collecting the results\u001b[39;00m\n\u001b[1;32m    362\u001b[0m \u001b[39m    in a list that is returned.\u001b[39;00m\n\u001b[1;32m    363\u001b[0m \u001b[39m    '''\u001b[39;00m\n\u001b[0;32m--> 364\u001b[0m     \u001b[39mreturn\u001b[39;00m \u001b[39mself\u001b[39;49m\u001b[39m.\u001b[39;49m_map_async(func, iterable, mapstar, chunksize)\u001b[39m.\u001b[39;49mget()\n",
      "File \u001b[0;32m/usr/lib/python3.10/multiprocessing/pool.py:765\u001b[0m, in \u001b[0;36mApplyResult.get\u001b[0;34m(self, timeout)\u001b[0m\n\u001b[1;32m    764\u001b[0m \u001b[39mdef\u001b[39;00m \u001b[39mget\u001b[39m(\u001b[39mself\u001b[39m, timeout\u001b[39m=\u001b[39m\u001b[39mNone\u001b[39;00m):\n\u001b[0;32m--> 765\u001b[0m     \u001b[39mself\u001b[39;49m\u001b[39m.\u001b[39;49mwait(timeout)\n\u001b[1;32m    766\u001b[0m     \u001b[39mif\u001b[39;00m \u001b[39mnot\u001b[39;00m \u001b[39mself\u001b[39m\u001b[39m.\u001b[39mready():\n\u001b[1;32m    767\u001b[0m         \u001b[39mraise\u001b[39;00m \u001b[39mTimeoutError\u001b[39;00m\n",
      "File \u001b[0;32m/usr/lib/python3.10/multiprocessing/pool.py:762\u001b[0m, in \u001b[0;36mApplyResult.wait\u001b[0;34m(self, timeout)\u001b[0m\n\u001b[1;32m    761\u001b[0m \u001b[39mdef\u001b[39;00m \u001b[39mwait\u001b[39m(\u001b[39mself\u001b[39m, timeout\u001b[39m=\u001b[39m\u001b[39mNone\u001b[39;00m):\n\u001b[0;32m--> 762\u001b[0m     \u001b[39mself\u001b[39;49m\u001b[39m.\u001b[39;49m_event\u001b[39m.\u001b[39;49mwait(timeout)\n",
      "File \u001b[0;32m/usr/lib/python3.10/threading.py:600\u001b[0m, in \u001b[0;36mEvent.wait\u001b[0;34m(self, timeout)\u001b[0m\n\u001b[1;32m    598\u001b[0m signaled \u001b[39m=\u001b[39m \u001b[39mself\u001b[39m\u001b[39m.\u001b[39m_flag\n\u001b[1;32m    599\u001b[0m \u001b[39mif\u001b[39;00m \u001b[39mnot\u001b[39;00m signaled:\n\u001b[0;32m--> 600\u001b[0m     signaled \u001b[39m=\u001b[39m \u001b[39mself\u001b[39;49m\u001b[39m.\u001b[39;49m_cond\u001b[39m.\u001b[39;49mwait(timeout)\n\u001b[1;32m    601\u001b[0m \u001b[39mreturn\u001b[39;00m signaled\n",
      "File \u001b[0;32m/usr/lib/python3.10/threading.py:320\u001b[0m, in \u001b[0;36mCondition.wait\u001b[0;34m(self, timeout)\u001b[0m\n\u001b[1;32m    318\u001b[0m \u001b[39mtry\u001b[39;00m:    \u001b[39m# restore state no matter what (e.g., KeyboardInterrupt)\u001b[39;00m\n\u001b[1;32m    319\u001b[0m     \u001b[39mif\u001b[39;00m timeout \u001b[39mis\u001b[39;00m \u001b[39mNone\u001b[39;00m:\n\u001b[0;32m--> 320\u001b[0m         waiter\u001b[39m.\u001b[39;49macquire()\n\u001b[1;32m    321\u001b[0m         gotit \u001b[39m=\u001b[39m \u001b[39mTrue\u001b[39;00m\n\u001b[1;32m    322\u001b[0m     \u001b[39melse\u001b[39;00m:\n",
      "\u001b[0;31mKeyboardInterrupt\u001b[0m: "
     ]
    }
   ],
   "source": [
    "cem = CEM(\n",
    "    problem=knapsack_qaoa,\n",
    "    epochs=10,\n",
    "    samples_per_epoch=100,\n",
    "    elite_frac=0.1,\n",
    "    process=6\n",
    ")\n",
    "\n",
    "cem.minimize(\n",
    "    init_weights=[1, 1], \n",
    "    # mean=[2.0345243512510995, 2.942750372594455]\n",
    ")"
   ]
  },
  {
   "cell_type": "code",
   "execution_count": 13,
   "metadata": {},
   "outputs": [
    {
     "name": "stdout",
     "output_type": "stream",
     "text": [
      "Epoch 1\tAverage Elite Score: -0.3825633806073557\tAverage Score: -0.12373419129605781\n",
      "[-7.147861346391355, 9.347924610995836] with reward: -0.5678048497728833\n",
      "Epoch 2\tAverage Elite Score: -0.362932978179451\tAverage Score: -0.11454479002779813\n",
      "[6.689794925041902, -3.8811813854420674] with reward: -0.569855744441671\n",
      "Epoch 3\tAverage Elite Score: -0.4507558604393235\tAverage Score: -0.14094499255572637\n",
      "[6.689794925041902, -3.8811813854420674] with reward: -0.569855744441671\n",
      "Epoch 4\tAverage Elite Score: -0.3481713818898989\tAverage Score: -0.12556784882292085\n",
      "[6.689794925041902, -3.8811813854420674] with reward: -0.569855744441671\n",
      "Epoch 5\tAverage Elite Score: -0.37607816600768434\tAverage Score: -0.12379451838521603\n",
      "[6.689794925041902, -3.8811813854420674] with reward: -0.569855744441671\n",
      "Epoch 6\tAverage Elite Score: -0.3731710878383884\tAverage Score: -0.1147461320326705\n",
      "[6.689794925041902, -3.8811813854420674] with reward: -0.569855744441671\n",
      "Epoch 7\tAverage Elite Score: -0.4510509117545601\tAverage Score: -0.14105842808153632\n",
      "[-4.575296603491294, -0.9036316684903625] with reward: -0.6954374500213331\n",
      "Epoch 8\tAverage Elite Score: -0.43774602562087106\tAverage Score: -0.1458408146221893\n",
      "[-4.575296603491294, -0.9036316684903625] with reward: -0.6954374500213331\n",
      "Epoch 9\tAverage Elite Score: -0.4075116944758669\tAverage Score: -0.13028848617762842\n",
      "[-4.575296603491294, -0.9036316684903625] with reward: -0.6954374500213331\n",
      "Epoch 10\tAverage Elite Score: -0.4425664179853185\tAverage Score: -0.14563735788635593\n",
      "[-4.575296603491294, -0.9036316684903625] with reward: -0.6954374500213331\n"
     ]
    },
    {
     "data": {
      "text/plain": [
       "[-4.575296603491294, -0.9036316684903625]"
      ]
     },
     "execution_count": 13,
     "metadata": {},
     "output_type": "execute_result"
    }
   ],
   "source": [
    "cem.randomize(init_weights=[1, 1])"
   ]
  },
  {
   "cell_type": "code",
   "execution_count": 16,
   "metadata": {},
   "outputs": [
    {
     "name": "stdout",
     "output_type": "stream",
     "text": [
      "Key: 101 with probability 0.5851258230403462   | correct: True, value: 2\n",
      "Key: 111 with probability 0.23010160440914704   | correct: False\n",
      "Key: 001 with probability 0.06187830273109165   | correct: False\n",
      "Key: 011 with probability 0.05841408055146326   | correct: True, value: 1\n",
      "Key: 100 with probability 0.03178243587187642   | correct: False\n",
      "Key: 000 with probability 0.01852700194629529   | correct: True, value: 0\n",
      "Key: 110 with probability 0.008241419311877003   | correct: False\n",
      "Key: 010 with probability 0.005929332137900813   | correct: False\n"
     ]
    }
   ],
   "source": [
    "knapsack_qaoa.print_results([5.876428961941668, 1.9278045693719936])"
   ]
  },
  {
   "cell_type": "code",
   "execution_count": 15,
   "metadata": {},
   "outputs": [
    {
     "name": "stdout",
     "output_type": "stream",
     "text": [
      "0: ──H──MultiRZ(1.00)─╭MultiRZ(1.00)─╭MultiRZ(-1.00)──H───────────────MultiRZ(1.00)──H────────────\n",
      "1: ──H────────────────╰MultiRZ(1.00)─│───────────────╭MultiRZ(-1.00)──H──────────────MultiRZ(1.00)\n",
      "2: ──H──MultiRZ(2.00)────────────────╰MultiRZ(-1.00)─╰MultiRZ(-1.00)──H──────────────MultiRZ(1.00)\n",
      "\n",
      "─────┤ ╭<𝓗>\n",
      "───H─┤ ├<𝓗>\n",
      "───H─┤ ╰<𝓗>\n"
     ]
    }
   ],
   "source": [
    "import pennylane as qml\n",
    "\n",
    "def _create_mixing_hamitonian(const=1/2):\n",
    "    hamiltonian = qml.Identity(0)\n",
    "    for i in range(3):\n",
    "        hamiltonian += qml.Hamiltonian([const], [qml.PauliX(i)])\n",
    "    return hamiltonian\n",
    "    \n",
    "\n",
    "cost_operator = knapsack_qaoa._create_cost_operator((1, 1))\n",
    "def qaoa_layer(gamma, beta):\n",
    "    qml.qaoa.cost_layer(gamma, cost_operator)\n",
    "    qml.qaoa.mixer_layer(beta, _create_mixing_hamitonian())\n",
    "\n",
    "def hadamard_layer(wires):\n",
    "    for i in range(wires):\n",
    "        qml.Hadamard(i)\n",
    "\n",
    "def circuit(params, n_layers=2):\n",
    "    hadamard_layer(3)\n",
    "    qml.layer(qaoa_layer, n_layers, params[0], params[1])\n",
    "\n",
    "dev = qml.device(\"default.qubit\", wires=3)\n",
    "\n",
    "\n",
    "@qml.qnode(dev)\n",
    "def cost_function(params):\n",
    "    circuit(params, n_layers=1)\n",
    "    x = qml.expval(cost_operator)\n",
    "    return x\n",
    "\n",
    "# fig, ax = qml.draw_mpl(cost_function, expansion_strategy=\"device\")([[1], [2]])\n",
    "# fig.show()\n",
    "print(qml.draw(cost_function, expansion_strategy=\"device\")([[1], [1]]))"
   ]
  },
  {
   "cell_type": "code",
   "execution_count": 21,
   "metadata": {},
   "outputs": [
    {
     "name": "stdout",
     "output_type": "stream",
     "text": [
      "6.222222222222221\n",
      "[[8 4 2]\n",
      " [2 1 0]]\n",
      "[4.66666667 1.        ]\n",
      "[[6.22222222 2.        ]\n",
      " [2.         0.66666667]]\n"
     ]
    }
   ],
   "source": [
    "import numpy as np\n",
    "\n",
    "\n",
    "elite_weights = [[8,2], [4,1], [2,0]]\n",
    "print(np.var([8, 4, 2]))\n",
    "_mean = np.mean(elite_weights, axis=0)\n",
    "print(np.stack((elite_weights), axis = 1))\n",
    "_cov = np.cov(np.stack((elite_weights), axis = 1), bias=True)\n",
    "print(_mean)\n",
    "print(_cov)"
   ]
  },
  {
   "cell_type": "code",
   "execution_count": null,
   "metadata": {},
   "outputs": [],
   "source": []
  }
 ],
 "metadata": {
  "kernelspec": {
   "display_name": "Python 3.10.4 ('venv': venv)",
   "language": "python",
   "name": "python3"
  },
  "language_info": {
   "codemirror_mode": {
    "name": "ipython",
    "version": 3
   },
   "file_extension": ".py",
   "mimetype": "text/x-python",
   "name": "python",
   "nbconvert_exporter": "python",
   "pygments_lexer": "ipython3",
   "version": "3.10.4"
  },
  "orig_nbformat": 4,
  "vscode": {
   "interpreter": {
    "hash": "194d560554aca00f6e3bce42e1e7e246ef0a295a71f2572582018ad7f70a5cdf"
   }
  }
 },
 "nbformat": 4,
 "nbformat_minor": 2
}
