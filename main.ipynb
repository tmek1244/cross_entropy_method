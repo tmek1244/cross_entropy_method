{
 "cells": [
  {
   "cell_type": "code",
   "execution_count": 2,
   "metadata": {},
   "outputs": [],
   "source": [
    "import pennylane as qml"
   ]
  },
  {
   "cell_type": "markdown",
   "metadata": {},
   "source": [
    "## TSP problem"
   ]
  },
  {
   "cell_type": "code",
   "execution_count": 1,
   "metadata": {},
   "outputs": [],
   "source": [
    "from CEM_optimizer.CEM import CEM\n",
    "from CEM_optimizer.TSP import QAOA_TSP"
   ]
  },
  {
   "cell_type": "code",
   "execution_count": 4,
   "metadata": {},
   "outputs": [
    {
     "name": "stderr",
     "output_type": "stream",
     "text": [
      "Process ForkPoolWorker-2:\n",
      "Process ForkPoolWorker-1:\n",
      "Process ForkPoolWorker-5:\n",
      "Process ForkPoolWorker-3:\n",
      "Process ForkPoolWorker-4:\n"
     ]
    },
    {
     "ename": "KeyboardInterrupt",
     "evalue": "",
     "output_type": "error",
     "traceback": [
      "\u001b[0;31m---------------------------------------------------------------------------\u001b[0m",
      "\u001b[0;31mKeyboardInterrupt\u001b[0m                         Traceback (most recent call last)",
      "\u001b[1;32m/home/tmek1244/cyfronet/cross_entropy_method/main.ipynb Cell 4\u001b[0m in \u001b[0;36m<cell line: 19>\u001b[0;34m()\u001b[0m\n\u001b[1;32m      <a href='vscode-notebook-cell:/home/tmek1244/cyfronet/cross_entropy_method/main.ipynb#W3sZmlsZQ%3D%3D?line=0'>1</a>\u001b[0m tsp \u001b[39m=\u001b[39m QAOA_TSP(\n\u001b[1;32m      <a href='vscode-notebook-cell:/home/tmek1244/cyfronet/cross_entropy_method/main.ipynb#W3sZmlsZQ%3D%3D?line=1'>2</a>\u001b[0m     number_of_cities\u001b[39m=\u001b[39m\u001b[39m3\u001b[39m,\n\u001b[1;32m      <a href='vscode-notebook-cell:/home/tmek1244/cyfronet/cross_entropy_method/main.ipynb#W3sZmlsZQ%3D%3D?line=2'>3</a>\u001b[0m     number_of_layers\u001b[39m=\u001b[39m\u001b[39m6\u001b[39m,\n\u001b[0;32m   (...)\u001b[0m\n\u001b[1;32m      <a href='vscode-notebook-cell:/home/tmek1244/cyfronet/cross_entropy_method/main.ipynb#W3sZmlsZQ%3D%3D?line=8'>9</a>\u001b[0m     )\n\u001b[1;32m     <a href='vscode-notebook-cell:/home/tmek1244/cyfronet/cross_entropy_method/main.ipynb#W3sZmlsZQ%3D%3D?line=9'>10</a>\u001b[0m )\n\u001b[1;32m     <a href='vscode-notebook-cell:/home/tmek1244/cyfronet/cross_entropy_method/main.ipynb#W3sZmlsZQ%3D%3D?line=10'>11</a>\u001b[0m cem \u001b[39m=\u001b[39m CEM(\n\u001b[1;32m     <a href='vscode-notebook-cell:/home/tmek1244/cyfronet/cross_entropy_method/main.ipynb#W3sZmlsZQ%3D%3D?line=11'>12</a>\u001b[0m     problem\u001b[39m=\u001b[39mtsp,\n\u001b[1;32m     <a href='vscode-notebook-cell:/home/tmek1244/cyfronet/cross_entropy_method/main.ipynb#W3sZmlsZQ%3D%3D?line=12'>13</a>\u001b[0m     epochs\u001b[39m=\u001b[39m\u001b[39m10\u001b[39m,\n\u001b[0;32m   (...)\u001b[0m\n\u001b[1;32m     <a href='vscode-notebook-cell:/home/tmek1244/cyfronet/cross_entropy_method/main.ipynb#W3sZmlsZQ%3D%3D?line=15'>16</a>\u001b[0m     process\u001b[39m=\u001b[39m\u001b[39m6\u001b[39m\n\u001b[1;32m     <a href='vscode-notebook-cell:/home/tmek1244/cyfronet/cross_entropy_method/main.ipynb#W3sZmlsZQ%3D%3D?line=16'>17</a>\u001b[0m )\n\u001b[0;32m---> <a href='vscode-notebook-cell:/home/tmek1244/cyfronet/cross_entropy_method/main.ipynb#W3sZmlsZQ%3D%3D?line=18'>19</a>\u001b[0m cem\u001b[39m.\u001b[39;49mminimize(init_weights\u001b[39m=\u001b[39;49m[\u001b[39m1\u001b[39;49m, \u001b[39m1\u001b[39;49m, \u001b[39m1\u001b[39;49m])\n",
      "File \u001b[0;32m~/cyfronet/cross_entropy_method/CEM_optimizer/CEM.py:47\u001b[0m, in \u001b[0;36mCEM.minimize\u001b[0;34m(self, init_weights, mean, cov)\u001b[0m\n\u001b[1;32m     43\u001b[0m \u001b[39m# rewards = np.array(\u001b[39;00m\n\u001b[1;32m     44\u001b[0m \u001b[39m#     [self.problem.run_learning_n_get_results(list(point)) for point in points])\u001b[39;00m\n\u001b[1;32m     46\u001b[0m \u001b[39mwith\u001b[39;00m mp\u001b[39m.\u001b[39mPool(processes\u001b[39m=\u001b[39m\u001b[39mself\u001b[39m\u001b[39m.\u001b[39mprocess) \u001b[39mas\u001b[39;00m p:\n\u001b[0;32m---> 47\u001b[0m     results \u001b[39m=\u001b[39m p\u001b[39m.\u001b[39;49mmap(\u001b[39mself\u001b[39;49m\u001b[39m.\u001b[39;49mproblem\u001b[39m.\u001b[39;49mrun_learning_n_get_results, points)\n\u001b[1;32m     49\u001b[0m rewards \u001b[39m=\u001b[39m np\u001b[39m.\u001b[39marray([result \u001b[39mfor\u001b[39;00m result \u001b[39min\u001b[39;00m results])\n\u001b[1;32m     51\u001b[0m elite_idxs \u001b[39m=\u001b[39m rewards\u001b[39m.\u001b[39margsort()[:\u001b[39mself\u001b[39m\u001b[39m.\u001b[39mn_elite]\n",
      "File \u001b[0;32m/usr/lib/python3.10/multiprocessing/pool.py:364\u001b[0m, in \u001b[0;36mPool.map\u001b[0;34m(self, func, iterable, chunksize)\u001b[0m\n\u001b[1;32m    359\u001b[0m \u001b[39mdef\u001b[39;00m \u001b[39mmap\u001b[39m(\u001b[39mself\u001b[39m, func, iterable, chunksize\u001b[39m=\u001b[39m\u001b[39mNone\u001b[39;00m):\n\u001b[1;32m    360\u001b[0m     \u001b[39m'''\u001b[39;00m\n\u001b[1;32m    361\u001b[0m \u001b[39m    Apply `func` to each element in `iterable`, collecting the results\u001b[39;00m\n\u001b[1;32m    362\u001b[0m \u001b[39m    in a list that is returned.\u001b[39;00m\n\u001b[1;32m    363\u001b[0m \u001b[39m    '''\u001b[39;00m\n\u001b[0;32m--> 364\u001b[0m     \u001b[39mreturn\u001b[39;00m \u001b[39mself\u001b[39;49m\u001b[39m.\u001b[39;49m_map_async(func, iterable, mapstar, chunksize)\u001b[39m.\u001b[39;49mget()\n",
      "File \u001b[0;32m/usr/lib/python3.10/multiprocessing/pool.py:765\u001b[0m, in \u001b[0;36mApplyResult.get\u001b[0;34m(self, timeout)\u001b[0m\n\u001b[1;32m    764\u001b[0m \u001b[39mdef\u001b[39;00m \u001b[39mget\u001b[39m(\u001b[39mself\u001b[39m, timeout\u001b[39m=\u001b[39m\u001b[39mNone\u001b[39;00m):\n\u001b[0;32m--> 765\u001b[0m     \u001b[39mself\u001b[39;49m\u001b[39m.\u001b[39;49mwait(timeout)\n\u001b[1;32m    766\u001b[0m     \u001b[39mif\u001b[39;00m \u001b[39mnot\u001b[39;00m \u001b[39mself\u001b[39m\u001b[39m.\u001b[39mready():\n\u001b[1;32m    767\u001b[0m         \u001b[39mraise\u001b[39;00m \u001b[39mTimeoutError\u001b[39;00m\n",
      "File \u001b[0;32m/usr/lib/python3.10/multiprocessing/pool.py:762\u001b[0m, in \u001b[0;36mApplyResult.wait\u001b[0;34m(self, timeout)\u001b[0m\n\u001b[1;32m    761\u001b[0m \u001b[39mdef\u001b[39;00m \u001b[39mwait\u001b[39m(\u001b[39mself\u001b[39m, timeout\u001b[39m=\u001b[39m\u001b[39mNone\u001b[39;00m):\n\u001b[0;32m--> 762\u001b[0m     \u001b[39mself\u001b[39;49m\u001b[39m.\u001b[39;49m_event\u001b[39m.\u001b[39;49mwait(timeout)\n",
      "File \u001b[0;32m/usr/lib/python3.10/threading.py:600\u001b[0m, in \u001b[0;36mEvent.wait\u001b[0;34m(self, timeout)\u001b[0m\n\u001b[1;32m    598\u001b[0m signaled \u001b[39m=\u001b[39m \u001b[39mself\u001b[39m\u001b[39m.\u001b[39m_flag\n\u001b[1;32m    599\u001b[0m \u001b[39mif\u001b[39;00m \u001b[39mnot\u001b[39;00m signaled:\n\u001b[0;32m--> 600\u001b[0m     signaled \u001b[39m=\u001b[39m \u001b[39mself\u001b[39;49m\u001b[39m.\u001b[39;49m_cond\u001b[39m.\u001b[39;49mwait(timeout)\n\u001b[1;32m    601\u001b[0m \u001b[39mreturn\u001b[39;00m signaled\n",
      "File \u001b[0;32m/usr/lib/python3.10/threading.py:320\u001b[0m, in \u001b[0;36mCondition.wait\u001b[0;34m(self, timeout)\u001b[0m\n\u001b[1;32m    318\u001b[0m \u001b[39mtry\u001b[39;00m:    \u001b[39m# restore state no matter what (e.g., KeyboardInterrupt)\u001b[39;00m\n\u001b[1;32m    319\u001b[0m     \u001b[39mif\u001b[39;00m timeout \u001b[39mis\u001b[39;00m \u001b[39mNone\u001b[39;00m:\n\u001b[0;32m--> 320\u001b[0m         waiter\u001b[39m.\u001b[39;49macquire()\n\u001b[1;32m    321\u001b[0m         gotit \u001b[39m=\u001b[39m \u001b[39mTrue\u001b[39;00m\n\u001b[1;32m    322\u001b[0m     \u001b[39melse\u001b[39;00m:\n",
      "\u001b[0;31mKeyboardInterrupt\u001b[0m: "
     ]
    }
   ],
   "source": [
    "tsp = QAOA_TSP(\n",
    "    number_of_cities=3,\n",
    "    number_of_layers=6,\n",
    "    optimization_steps=70,\n",
    "    optimizer=qml.AdamOptimizer(\n",
    "        stepsize=0.01,\n",
    "        beta1=0.9,\n",
    "        beta2=0.99\n",
    "    )\n",
    ")\n",
    "cem = CEM(\n",
    "    problem=tsp,\n",
    "    epochs=10,\n",
    "    samples_per_epoch=100,\n",
    "    elite_frac=0.1,\n",
    "    process=6\n",
    ")\n",
    "\n",
    "cem.minimize(init_weights=[1, 1, 1])"
   ]
  },
  {
   "cell_type": "markdown",
   "metadata": {},
   "source": [
    "## Knapsack problem"
   ]
  },
  {
   "cell_type": "code",
   "execution_count": 1,
   "metadata": {},
   "outputs": [],
   "source": [
    "%load_ext autoreload\n",
    "%autoreload 2"
   ]
  },
  {
   "cell_type": "code",
   "execution_count": 2,
   "metadata": {},
   "outputs": [],
   "source": [
    "from CEM_optimizer.Knapsack import Knapsack, QAOA_Knapsack\n",
    "from CEM_optimizer.CEM import CEM"
   ]
  },
  {
   "cell_type": "code",
   "execution_count": 3,
   "metadata": {},
   "outputs": [],
   "source": [
    "knapsack = Knapsack(max_weight=1)\n",
    "knapsack.set_knapsack([(1, 2), (1, 1)])"
   ]
  },
  {
   "cell_type": "code",
   "execution_count": 4,
   "metadata": {},
   "outputs": [],
   "source": [
    "knapsack_qaoa = QAOA_Knapsack(knapsack, number_of_layers=3, optimization_steps=200)"
   ]
  },
  {
   "cell_type": "code",
   "execution_count": 5,
   "metadata": {},
   "outputs": [
    {
     "name": "stdout",
     "output_type": "stream",
     "text": [
      "Epoch 1\tAverage Elite Score: -1.4456714281694703\tAverage Score: -0.5944918110871544\n",
      "[-0.18952356489511946, 1.2415183281974593] with reward: -1.8511878680498974\n",
      "Epoch 2\tAverage Elite Score: -1.6281217350837587\tAverage Score: -0.671089663979994\n",
      "[-1.4015475938476776, -0.5453341555179569] with reward: -1.8511878680498974\n",
      "Epoch 3\tAverage Elite Score: -1.6141617565110262\tAverage Score: -0.731145464680124\n",
      "[-0.3516309911628084, 1.4331479331170114] with reward: -1.8511878680498974\n",
      "Epoch 4\tAverage Elite Score: -1.6772251078095155\tAverage Score: -1.1570366806493466\n",
      "[-0.3761218319363802, 1.465820699967507] with reward: -1.8511878680498974\n",
      "Epoch 5\tAverage Elite Score: -1.646874833025904\tAverage Score: -1.1673266725350555\n",
      "[-0.3761218319363802, 1.465820699967507] with reward: -1.8511878680498974\n",
      "Epoch 6\tAverage Elite Score: -1.6687105779959968\tAverage Score: -1.571904216220563\n",
      "[-0.4432887217903053, 1.5601557101692505] with reward: -1.8511878680498974\n",
      "Epoch 7\tAverage Elite Score: -1.6354578433818001\tAverage Score: -1.5855839244685872\n",
      "[-0.46258216447436085, 1.558210823234146] with reward: -1.8511878680498974\n",
      "Epoch 8\tAverage Elite Score: -1.612857526691484\tAverage Score: -1.5857675734207985\n",
      "[-0.47425788080132286, 1.527395827440398] with reward: -1.8511878680498974\n"
     ]
    },
    {
     "ename": "KeyboardInterrupt",
     "evalue": "",
     "output_type": "error",
     "traceback": [
      "\u001b[0;31m---------------------------------------------------------------------------\u001b[0m",
      "\u001b[0;31mKeyboardInterrupt\u001b[0m                         Traceback (most recent call last)",
      "\u001b[1;32m/home/tmek1244/cyfronet/cross_entropy_method/main.ipynb Cell 10\u001b[0m in \u001b[0;36m<cell line: 9>\u001b[0;34m()\u001b[0m\n\u001b[1;32m      <a href='vscode-notebook-cell:/home/tmek1244/cyfronet/cross_entropy_method/main.ipynb#X14sZmlsZQ%3D%3D?line=0'>1</a>\u001b[0m cem \u001b[39m=\u001b[39m CEM(\n\u001b[1;32m      <a href='vscode-notebook-cell:/home/tmek1244/cyfronet/cross_entropy_method/main.ipynb#X14sZmlsZQ%3D%3D?line=1'>2</a>\u001b[0m     problem\u001b[39m=\u001b[39mknapsack_qaoa,\n\u001b[1;32m      <a href='vscode-notebook-cell:/home/tmek1244/cyfronet/cross_entropy_method/main.ipynb#X14sZmlsZQ%3D%3D?line=2'>3</a>\u001b[0m     epochs\u001b[39m=\u001b[39m\u001b[39m10\u001b[39m,\n\u001b[0;32m   (...)\u001b[0m\n\u001b[1;32m      <a href='vscode-notebook-cell:/home/tmek1244/cyfronet/cross_entropy_method/main.ipynb#X14sZmlsZQ%3D%3D?line=5'>6</a>\u001b[0m     process\u001b[39m=\u001b[39m\u001b[39m6\u001b[39m\n\u001b[1;32m      <a href='vscode-notebook-cell:/home/tmek1244/cyfronet/cross_entropy_method/main.ipynb#X14sZmlsZQ%3D%3D?line=6'>7</a>\u001b[0m )\n\u001b[0;32m----> <a href='vscode-notebook-cell:/home/tmek1244/cyfronet/cross_entropy_method/main.ipynb#X14sZmlsZQ%3D%3D?line=8'>9</a>\u001b[0m cem\u001b[39m.\u001b[39;49mminimize(init_weights\u001b[39m=\u001b[39;49m[\u001b[39m1\u001b[39;49m, \u001b[39m1\u001b[39;49m])\n",
      "File \u001b[0;32m~/cyfronet/cross_entropy_method/CEM_optimizer/CEM.py:47\u001b[0m, in \u001b[0;36mCEM.minimize\u001b[0;34m(self, init_weights, mean, cov)\u001b[0m\n\u001b[1;32m     43\u001b[0m \u001b[39m# rewards = np.array(\u001b[39;00m\n\u001b[1;32m     44\u001b[0m \u001b[39m#     [self.problem.run_learning_n_get_results(list(point)) for point in points])\u001b[39;00m\n\u001b[1;32m     46\u001b[0m \u001b[39mwith\u001b[39;00m mp\u001b[39m.\u001b[39mPool(processes\u001b[39m=\u001b[39m\u001b[39mself\u001b[39m\u001b[39m.\u001b[39mprocess) \u001b[39mas\u001b[39;00m p:\n\u001b[0;32m---> 47\u001b[0m     results \u001b[39m=\u001b[39m p\u001b[39m.\u001b[39;49mmap(\u001b[39mself\u001b[39;49m\u001b[39m.\u001b[39;49mproblem\u001b[39m.\u001b[39;49mrun_learning_n_get_results, points)\n\u001b[1;32m     49\u001b[0m rewards \u001b[39m=\u001b[39m np\u001b[39m.\u001b[39marray([result \u001b[39mfor\u001b[39;00m result \u001b[39min\u001b[39;00m results])\n\u001b[1;32m     51\u001b[0m elite_idxs \u001b[39m=\u001b[39m rewards\u001b[39m.\u001b[39margsort()[:\u001b[39mself\u001b[39m\u001b[39m.\u001b[39mn_elite]\n",
      "File \u001b[0;32m/usr/lib/python3.10/multiprocessing/pool.py:364\u001b[0m, in \u001b[0;36mPool.map\u001b[0;34m(self, func, iterable, chunksize)\u001b[0m\n\u001b[1;32m    359\u001b[0m \u001b[39mdef\u001b[39;00m \u001b[39mmap\u001b[39m(\u001b[39mself\u001b[39m, func, iterable, chunksize\u001b[39m=\u001b[39m\u001b[39mNone\u001b[39;00m):\n\u001b[1;32m    360\u001b[0m     \u001b[39m'''\u001b[39;00m\n\u001b[1;32m    361\u001b[0m \u001b[39m    Apply `func` to each element in `iterable`, collecting the results\u001b[39;00m\n\u001b[1;32m    362\u001b[0m \u001b[39m    in a list that is returned.\u001b[39;00m\n\u001b[1;32m    363\u001b[0m \u001b[39m    '''\u001b[39;00m\n\u001b[0;32m--> 364\u001b[0m     \u001b[39mreturn\u001b[39;00m \u001b[39mself\u001b[39;49m\u001b[39m.\u001b[39;49m_map_async(func, iterable, mapstar, chunksize)\u001b[39m.\u001b[39;49mget()\n",
      "File \u001b[0;32m/usr/lib/python3.10/multiprocessing/pool.py:765\u001b[0m, in \u001b[0;36mApplyResult.get\u001b[0;34m(self, timeout)\u001b[0m\n\u001b[1;32m    764\u001b[0m \u001b[39mdef\u001b[39;00m \u001b[39mget\u001b[39m(\u001b[39mself\u001b[39m, timeout\u001b[39m=\u001b[39m\u001b[39mNone\u001b[39;00m):\n\u001b[0;32m--> 765\u001b[0m     \u001b[39mself\u001b[39;49m\u001b[39m.\u001b[39;49mwait(timeout)\n\u001b[1;32m    766\u001b[0m     \u001b[39mif\u001b[39;00m \u001b[39mnot\u001b[39;00m \u001b[39mself\u001b[39m\u001b[39m.\u001b[39mready():\n\u001b[1;32m    767\u001b[0m         \u001b[39mraise\u001b[39;00m \u001b[39mTimeoutError\u001b[39;00m\n",
      "File \u001b[0;32m/usr/lib/python3.10/multiprocessing/pool.py:762\u001b[0m, in \u001b[0;36mApplyResult.wait\u001b[0;34m(self, timeout)\u001b[0m\n\u001b[1;32m    761\u001b[0m \u001b[39mdef\u001b[39;00m \u001b[39mwait\u001b[39m(\u001b[39mself\u001b[39m, timeout\u001b[39m=\u001b[39m\u001b[39mNone\u001b[39;00m):\n\u001b[0;32m--> 762\u001b[0m     \u001b[39mself\u001b[39;49m\u001b[39m.\u001b[39;49m_event\u001b[39m.\u001b[39;49mwait(timeout)\n",
      "File \u001b[0;32m/usr/lib/python3.10/threading.py:600\u001b[0m, in \u001b[0;36mEvent.wait\u001b[0;34m(self, timeout)\u001b[0m\n\u001b[1;32m    598\u001b[0m signaled \u001b[39m=\u001b[39m \u001b[39mself\u001b[39m\u001b[39m.\u001b[39m_flag\n\u001b[1;32m    599\u001b[0m \u001b[39mif\u001b[39;00m \u001b[39mnot\u001b[39;00m signaled:\n\u001b[0;32m--> 600\u001b[0m     signaled \u001b[39m=\u001b[39m \u001b[39mself\u001b[39;49m\u001b[39m.\u001b[39;49m_cond\u001b[39m.\u001b[39;49mwait(timeout)\n\u001b[1;32m    601\u001b[0m \u001b[39mreturn\u001b[39;00m signaled\n",
      "File \u001b[0;32m/usr/lib/python3.10/threading.py:320\u001b[0m, in \u001b[0;36mCondition.wait\u001b[0;34m(self, timeout)\u001b[0m\n\u001b[1;32m    318\u001b[0m \u001b[39mtry\u001b[39;00m:    \u001b[39m# restore state no matter what (e.g., KeyboardInterrupt)\u001b[39;00m\n\u001b[1;32m    319\u001b[0m     \u001b[39mif\u001b[39;00m timeout \u001b[39mis\u001b[39;00m \u001b[39mNone\u001b[39;00m:\n\u001b[0;32m--> 320\u001b[0m         waiter\u001b[39m.\u001b[39;49macquire()\n\u001b[1;32m    321\u001b[0m         gotit \u001b[39m=\u001b[39m \u001b[39mTrue\u001b[39;00m\n\u001b[1;32m    322\u001b[0m     \u001b[39melse\u001b[39;00m:\n",
      "\u001b[0;31mKeyboardInterrupt\u001b[0m: "
     ]
    }
   ],
   "source": [
    "cem = CEM(\n",
    "    problem=knapsack_qaoa,\n",
    "    epochs=10,\n",
    "    samples_per_epoch=100,\n",
    "    elite_frac=0.1,\n",
    "    process=6\n",
    ")\n",
    "\n",
    "cem.minimize(init_weights=[1, 1])"
   ]
  },
  {
   "cell_type": "code",
   "execution_count": 6,
   "metadata": {},
   "outputs": [
    {
     "name": "stdout",
     "output_type": "stream",
     "text": [
      "Key: 101 with probability 0.3158280268884926   | correct: True, value: 2\n",
      "Key: 111 with probability 0.18057603922072862   | correct: False\n",
      "Key: 001 with probability 0.13888447632383277   | correct: False\n",
      "Key: 000 with probability 0.12594371574502827   | correct: True, value: 0\n",
      "Key: 100 with probability 0.10076734150531425   | correct: False\n",
      "Key: 011 with probability 0.04981876546514335   | correct: True, value: 1\n",
      "Key: 110 with probability 0.04974280847923131   | correct: False\n",
      "Key: 010 with probability 0.03843882637222737   | correct: False\n"
     ]
    }
   ],
   "source": [
    "knapsack_qaoa.print_results([-0.6696475892471498, 2.4849461246461613])"
   ]
  },
  {
   "cell_type": "code",
   "execution_count": 66,
   "metadata": {},
   "outputs": [
    {
     "name": "stdout",
     "output_type": "stream",
     "text": [
      "range(0, 2)\n",
      "[2]\n",
      "2 0\n",
      "2 1\n",
      "0: ──H──MultiRZ(5.00)─╭MultiRZ(0.50)─╭MultiRZ(-0.50)─────────────────┤ ╭<𝓗>\n",
      "1: ──H──MultiRZ(2.00)─╰MultiRZ(0.50)─│───────────────╭MultiRZ(-0.50)─┤ ├<𝓗>\n",
      "2: ──H──MultiRZ(1.00)────────────────╰MultiRZ(-0.50)─╰MultiRZ(-0.50)─┤ ╰<𝓗>\n"
     ]
    }
   ],
   "source": [
    "cost_operator = knapsack_qaoa._create_cost_operator((1, 3))\n",
    "def qaoa_layer(gamma, beta):\n",
    "    qml.qaoa.cost_layer(gamma, cost_operator)\n",
    "\n",
    "def hadamard_layer(wires):\n",
    "    for i in range(wires):\n",
    "        qml.Hadamard(i)\n",
    "\n",
    "def circuit(params, n_layers=2):\n",
    "    hadamard_layer(3)\n",
    "    qml.layer(qaoa_layer, n_layers, params[0], params[1])\n",
    "\n",
    "dev = qml.device(\"default.qubit\", wires=3)\n",
    "\n",
    "\n",
    "@qml.qnode(dev)\n",
    "def cost_function(params):\n",
    "    circuit(params, n_layers=1)\n",
    "    x = qml.expval(cost_operator)\n",
    "    return x\n",
    "\n",
    "# fig, ax = qml.draw_mpl(cost_function, expansion_strategy=\"device\")([[1], [2]])\n",
    "# fig.show()\n",
    "print(qml.draw(cost_function, expansion_strategy=\"device\")([[1], [2]]))"
   ]
  },
  {
   "cell_type": "code",
   "execution_count": null,
   "metadata": {},
   "outputs": [],
   "source": []
  }
 ],
 "metadata": {
  "kernelspec": {
   "display_name": "Python 3.10.4 ('venv': venv)",
   "language": "python",
   "name": "python3"
  },
  "language_info": {
   "codemirror_mode": {
    "name": "ipython",
    "version": 3
   },
   "file_extension": ".py",
   "mimetype": "text/x-python",
   "name": "python",
   "nbconvert_exporter": "python",
   "pygments_lexer": "ipython3",
   "version": "3.10.4"
  },
  "orig_nbformat": 4,
  "vscode": {
   "interpreter": {
    "hash": "194d560554aca00f6e3bce42e1e7e246ef0a295a71f2572582018ad7f70a5cdf"
   }
  }
 },
 "nbformat": 4,
 "nbformat_minor": 2
}
