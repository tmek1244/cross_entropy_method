{
 "cells": [
  {
   "cell_type": "code",
   "execution_count": 1,
   "metadata": {},
   "outputs": [],
   "source": [
    "import pennylane as qml\n",
    "import numpy as np\n",
    "\n",
    "from QAOA.optimizers.CEM import CEM\n",
    "from QAOA.optimizers.random import Random\n",
    "from QAOA.optimizers.qml_gradient_descent import QmlGradientDescent\n",
    "from QAOA.solvers.QAOA.core import QAOA"
   ]
  },
  {
   "cell_type": "markdown",
   "metadata": {},
   "source": [
    "## TSP problem"
   ]
  },
  {
   "cell_type": "code",
   "execution_count": 2,
   "metadata": {},
   "outputs": [],
   "source": [
    "from QAOA.QAOA_problems.TSP import QAOA_TSP"
   ]
  },
  {
   "cell_type": "code",
   "execution_count": 3,
   "metadata": {},
   "outputs": [],
   "source": [
    "tsp = QAOA_TSP(\n",
    "    number_of_cities=3,\n",
    ")"
   ]
  },
  {
   "cell_type": "code",
   "execution_count": 6,
   "metadata": {},
   "outputs": [],
   "source": [
    "solver = QAOA(\n",
    "    problem=tsp,\n",
    "    platform=\"pennylane\",\n",
    "    optimizer=QmlGradientDescent(200, qml.AdamOptimizer(stepsize=0.05)),\n",
    "    layers=5,\n",
    "    angles=[[0.5]*5, [0.5]*5],\n",
    "    # mixer: str=,\n",
    "    weights=[1, 1, 1],\n",
    "    hyperoptimizer=CEM(\n",
    "        epochs=5,\n",
    "        samples_per_epoch=100,\n",
    "        elite_frac=0.1\n",
    "    ),\n",
    "    # backend=\n",
    ")"
   ]
  },
  {
   "cell_type": "code",
   "execution_count": 7,
   "metadata": {},
   "outputs": [
    {
     "name": "stderr",
     "output_type": "stream",
     "text": [
      "  0%|          | 0/101 [00:00<?, ?it/s]"
     ]
    }
   ],
   "source": [
    "value, params, weights = solver.solve()"
   ]
  },
  {
   "cell_type": "code",
   "execution_count": 6,
   "metadata": {},
   "outputs": [],
   "source": [
    "probs = solver.get_probs_func(weights)(params)"
   ]
  },
  {
   "cell_type": "code",
   "execution_count": 7,
   "metadata": {},
   "outputs": [
    {
     "data": {
      "text/plain": [
       "-8.980681476985358"
      ]
     },
     "execution_count": 7,
     "metadata": {},
     "output_type": "execute_result"
    }
   ],
   "source": [
    "solver.check_results(probs)"
   ]
  },
  {
   "cell_type": "code",
   "execution_count": 9,
   "metadata": {},
   "outputs": [],
   "source": [
    "%load_ext autoreload\n",
    "%autoreload 2"
   ]
  },
  {
   "cell_type": "code",
   "execution_count": null,
   "metadata": {},
   "outputs": [],
   "source": [
    "solver.print_results(probs)"
   ]
  },
  {
   "cell_type": "markdown",
   "metadata": {},
   "source": [
    "## Knapsack problem"
   ]
  },
  {
   "cell_type": "code",
   "execution_count": 1,
   "metadata": {},
   "outputs": [],
   "source": [
    "from QAOA.QAOA_problems.Knapsack import Knapsack, QAOA_Knapsack"
   ]
  },
  {
   "cell_type": "code",
   "execution_count": 2,
   "metadata": {},
   "outputs": [],
   "source": [
    "knapsack = Knapsack(max_weight=2)\n",
    "knapsack.set_knapsack([(2, 2), (3, 1)])\n",
    "knapsack_qaoa = QAOA_Knapsack(knapsack)"
   ]
  },
  {
   "cell_type": "code",
   "execution_count": 17,
   "metadata": {},
   "outputs": [],
   "source": [
    "solver = QAOA(\n",
    "    problem=knapsack_qaoa,\n",
    "    platform=\"pennylane\",\n",
    "    optimizer=QmlGradientDescent(200, qml.AdamOptimizer(stepsize=0.05)),\n",
    "    layers=5,\n",
    "    angles=[[0.5]*5, [0.5]*5],\n",
    "    # mixer: str=,\n",
    "    weights=[2.72616422, 4.59436366, 4.46463072],\n",
    "    # hyperoptimizer=CEM(),\n",
    "    # backend=\n",
    ")\n",
    "value, params, weights = solver.solve()"
   ]
  },
  {
   "cell_type": "code",
   "execution_count": 18,
   "metadata": {},
   "outputs": [],
   "source": [
    "probs = solver.get_probs_func(weights)(params)"
   ]
  },
  {
   "cell_type": "code",
   "execution_count": 28,
   "metadata": {},
   "outputs": [
    {
     "data": {
      "text/plain": [
       "-1.6037486902664413"
      ]
     },
     "execution_count": 28,
     "metadata": {},
     "output_type": "execute_result"
    }
   ],
   "source": [
    "solver.check_results(probs)"
   ]
  },
  {
   "cell_type": "code",
   "execution_count": 19,
   "metadata": {},
   "outputs": [
    {
     "name": "stdout",
     "output_type": "stream",
     "text": [
      "Key: 1001 with probability 0.26765   | correct: True, value: 2.00000\n",
      "Key: 0111 with probability 0.23726   | correct: False\n",
      "Key: 0000 with probability 0.09778   | correct: True, value: 0.00000\n",
      "Key: 0101 with probability 0.09518   | correct: False\n",
      "Key: 0010 with probability 0.07004   | correct: False\n",
      "Key: 1111 with probability 0.06873   | correct: False\n",
      "Key: 0110 with probability 0.05490   | correct: False\n",
      "Key: 1010 with probability 0.03457   | correct: False\n",
      "Key: 1011 with probability 0.03224   | correct: False\n",
      "Key: 1000 with probability 0.01440   | correct: False\n",
      "Key: 0011 with probability 0.00822   | correct: False\n",
      "Key: 0100 with probability 0.00530   | correct: False\n",
      "Key: 1100 with probability 0.00516   | correct: False\n",
      "Key: 1101 with probability 0.00453   | correct: False\n",
      "Key: 1110 with probability 0.00291   | correct: False\n",
      "Key: 0001 with probability 0.00113   | correct: False\n"
     ]
    }
   ],
   "source": [
    "solver.print_results(probs)"
   ]
  }
 ],
 "metadata": {
  "kernelspec": {
   "display_name": "Python 3.10.4 ('venv': venv)",
   "language": "python",
   "name": "python3"
  },
  "language_info": {
   "codemirror_mode": {
    "name": "ipython",
    "version": 3
   },
   "file_extension": ".py",
   "mimetype": "text/x-python",
   "name": "python",
   "nbconvert_exporter": "python",
   "pygments_lexer": "ipython3",
   "version": "3.10.6"
  },
  "orig_nbformat": 4,
  "vscode": {
   "interpreter": {
    "hash": "194d560554aca00f6e3bce42e1e7e246ef0a295a71f2572582018ad7f70a5cdf"
   }
  }
 },
 "nbformat": 4,
 "nbformat_minor": 2
}
