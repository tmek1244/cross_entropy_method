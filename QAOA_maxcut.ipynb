{
 "cells": [
  {
   "cell_type": "code",
   "execution_count": 1,
   "metadata": {},
   "outputs": [],
   "source": [
    "import numpy as np\n",
    "import networkx as nx\n",
    "import matplotlib.pyplot as plt\n",
    "\n",
    "from collections import deque\n",
    "from qiskit import QuantumCircuit, transpile\n",
    "from qiskit.providers.aer import QasmSimulator\n",
    "from qiskit.visualization import plot_histogram"
   ]
  },
  {
   "cell_type": "markdown",
   "metadata": {},
   "source": [
    "# FUNCTIONS"
   ]
  },
  {
   "cell_type": "code",
   "execution_count": 2,
   "metadata": {},
   "outputs": [],
   "source": [
    "def create_qaoa_circ(G, theta):\n",
    "    nqubits = len(G.nodes())\n",
    "    p = len(theta)//2  # number of alternating unitaries\n",
    "    qc = QuantumCircuit(nqubits)\n",
    "    \n",
    "    beta = theta[:p]\n",
    "    gamma = theta[p:]\n",
    "    \n",
    "    # initial_state\n",
    "    for i in range(0, nqubits):\n",
    "        qc.h(i)\n",
    "    \n",
    "    for irep in range(0, p):\n",
    "        \n",
    "        # problem unitary\n",
    "        for pair in list(G.edges()):\n",
    "            qc.rzz(2 * gamma[irep], pair[0], pair[1])\n",
    "\n",
    "        # mixer unitary\n",
    "        for i in range(0, nqubits):\n",
    "            qc.rx(2 * beta[irep], i)\n",
    "            \n",
    "    qc.measure_all()\n",
    "        \n",
    "    return qc"
   ]
  },
  {
   "cell_type": "code",
   "execution_count": 3,
   "metadata": {},
   "outputs": [],
   "source": [
    "def maxcut_obj(x, G):\n",
    "    obj = 0\n",
    "    for i, j in G.edges():\n",
    "        if x[i] != x[j]:\n",
    "            obj += 1\n",
    "            \n",
    "    return obj"
   ]
  },
  {
   "cell_type": "code",
   "execution_count": 4,
   "metadata": {},
   "outputs": [],
   "source": [
    "def compute_expectation(counts, G):\n",
    "    \n",
    "    \"\"\"\n",
    "    Computes expectation value based on measurement results\n",
    "    \n",
    "    Args:\n",
    "        counts: dict\n",
    "                key as bitstring, val as count\n",
    "           \n",
    "        G: networkx graph\n",
    "        \n",
    "    Returns:\n",
    "        avg: float\n",
    "             expectation value\n",
    "    \"\"\"\n",
    "    \n",
    "    avg = 0\n",
    "    sum_count = 0\n",
    "    for bitstring, count in counts.items():\n",
    "        \n",
    "        obj = maxcut_obj(bitstring, G)\n",
    "        avg += obj * count\n",
    "        sum_count -= count\n",
    "        \n",
    "    return avg/sum_count"
   ]
  },
  {
   "cell_type": "code",
   "execution_count": 5,
   "metadata": {},
   "outputs": [],
   "source": [
    "def get_expectation(G):\n",
    "    \n",
    "    \"\"\"\n",
    "    Runs parametrized circuit\n",
    "    \n",
    "    Args:\n",
    "        G: networkx graph\n",
    "        p: int,\n",
    "           Number of repetitions of unitaries\n",
    "    \"\"\"\n",
    "\n",
    "    backend = QasmSimulator()\n",
    "\n",
    "    def execute_circ(theta, draw=False):\n",
    "        qc = create_qaoa_circ(G, theta)\n",
    "        qc_compiled = transpile(qc, backend, optimization_level=3)\n",
    "        job_sim = backend.run(qc_compiled, shots=1024*2**3)\n",
    "        result_sim = job_sim.result()\n",
    "        counts = result_sim.get_counts(qc_compiled)\n",
    "        if draw:\n",
    "            sorted_counts = {key:counts[key] for key in sorted(counts.keys())}\n",
    "            plt.figure(figsize=(10, 5), dpi=80)\n",
    "            names = list(sorted_counts.keys())\n",
    "            values = list(sorted_counts.values())\n",
    "\n",
    "            plt.bar(range(len(sorted_counts)), values, tick_label=names)\n",
    "            plt.show()\n",
    "\n",
    "        return compute_expectation(counts, G)\n",
    "    \n",
    "    return execute_circ"
   ]
  },
  {
   "cell_type": "markdown",
   "metadata": {},
   "source": [
    "# GRAPH"
   ]
  },
  {
   "cell_type": "code",
   "execution_count": 8,
   "metadata": {},
   "outputs": [
    {
     "data": {
      "image/png": "[encoded data removed]",
      "text/plain": [
       "<Figure size 432x288 with 1 Axes>"
      ]
     },
     "metadata": {},
     "output_type": "display_data"
    }
   ],
   "source": [
    "# G = nx.Graph()\n",
    "# G.add_nodes_from([0, 1, 2, 3])\n",
    "# G.add_edges_from([(0, 1), (1, 2), (2, 3), (3, 0)])\n",
    "G = nx.gnp_random_graph(10, 0.3)\n",
    "nx.draw(G, with_labels=True, alpha=0.8, node_size=500)"
   ]
  },
  {
   "cell_type": "markdown",
   "metadata": {},
   "source": [
    "# SCIPY optimization"
   ]
  },
  {
   "cell_type": "code",
   "execution_count": 9,
   "metadata": {},
   "outputs": [
    {
     "data": {
      "text/plain": [
       "     fun: -8.173583984375\n",
       "   maxcv: 0.0\n",
       " message: 'Optimization terminated successfully.'\n",
       "    nfev: 35\n",
       "  status: 1\n",
       " success: True\n",
       "       x: array([1.18809835, 1.27816247])"
      ]
     },
     "execution_count": 9,
     "metadata": {},
     "output_type": "execute_result"
    }
   ],
   "source": [
    "from scipy.optimize import minimize\n",
    "\n",
    "\n",
    "expectation = get_expectation(G)\n",
    "\n",
    "res = minimize(expectation, [1.0, 1.0], method='COBYLA')\n",
    "res"
   ]
  },
  {
   "cell_type": "code",
   "execution_count": 17,
   "metadata": {},
   "outputs": [
    {
     "name": "stdout",
     "output_type": "stream",
     "text": [
      "1011010000:\n",
      "  count: 8, max cut score: 6 \n",
      "0000100111:\n",
      "  count: 8, max cut score: 9 \n",
      "1000110101:\n",
      "  count: 9, max cut score: 8 \n",
      "0011011010:\n",
      "  count: 10, max cut score: 8 \n",
      "1110011000:\n",
      "  count: 10, max cut score: 10 \n",
      "1111011000:\n",
      "  count: 12, max cut score: 9 \n",
      "0111001010:\n",
      "  count: 14, max cut score: 8 \n",
      "1000100101:\n",
      "  count: 17, max cut score: 9 \n"
     ]
    }
   ],
   "source": [
    "backend = QasmSimulator()\n",
    "qc_res = create_qaoa_circ(G, res.x)\n",
    "\n",
    "counts = backend.run(qc_res, seed_simulator=10, shots=1024).result().get_counts()\n",
    "\n",
    "for item in sorted(counts.items(), key=lambda item: item[1])[-8:]:\n",
    "    print(f'{item[0]}:\\n  count: {item[1]}, max cut score: {maxcut_obj(item[0], G)} ')"
   ]
  },
  {
   "cell_type": "markdown",
   "metadata": {},
   "source": [
    "# CEM optimization"
   ]
  },
  {
   "cell_type": "code",
   "execution_count": 11,
   "metadata": {},
   "outputs": [],
   "source": [
    "def cem(n_iterations=30, print_every=5, pop_size=50, elite_frac=0.2, calculate=None):\n",
    "    n_elite=int(pop_size*elite_frac)\n",
    "\n",
    "    scores_deque = deque(maxlen=100)\n",
    "    scores = []\n",
    "    best_weight = [1, 0]\n",
    "    mean = [1, 1]\n",
    "    cov = [[1, 0], [0, 1]] \n",
    "    for i_iteration in range(1, n_iterations+1):\n",
    "        points = np.random.multivariate_normal(mean, cov, size=pop_size)\n",
    "        points = np.concatenate((points, [best_weight]), axis=0)\n",
    "        # ys = np.random.normal(y_mean, 0.04, size=50)\n",
    "        # print(weights_pop)\n",
    "        rewards = np.array([calculate([x, y]) for x, y in points])\n",
    "\n",
    "        elite_idxs = rewards.argsort()[:n_elite]\n",
    "        elite_weights = [points[i] for i in elite_idxs]\n",
    "\n",
    "        # print(elite_weights)\n",
    "        best_weight = elite_weights[0]\n",
    "\n",
    "        reward = calculate(best_weight)\n",
    "        scores_deque.append(reward)\n",
    "        scores.append(reward)\n",
    "        mean = np.mean(elite_weights, axis=0)\n",
    "        cov = np.cov(np.stack((elite_weights), axis = 1))\n",
    "\n",
    "        if i_iteration % print_every == 0:\n",
    "            print(mean)\n",
    "            print(cov)\n",
    "            print('Episode {}\\tAverage Score: {:.2f}'.format(i_iteration, np.mean(scores_deque)))\n",
    "            print(f'{best_weight} with reward: {calculate(best_weight, True)}')\n",
    "    # calculate(best_weight, True)\n",
    "    return scores, best_weight\n"
   ]
  },
  {
   "cell_type": "code",
   "execution_count": 12,
   "metadata": {},
   "outputs": [
    {
     "name": "stdout",
     "output_type": "stream",
     "text": [
      "[ 1.76210237 -0.45180193]\n",
      "[[ 0.05266017 -0.10239192]\n",
      " [-0.10239192  0.3075822 ]]\n",
      "Episode 5\tAverage Score: -8.14\n"
     ]
    },
    {
     "data": {
      "image/png": "[encoded data removed]",
      "text/plain": [
       "<Figure size 800x400 with 1 Axes>"
      ]
     },
     "metadata": {
      "needs_background": "light"
     },
     "output_type": "display_data"
    },
    {
     "name": "stdout",
     "output_type": "stream",
     "text": [
      "[ 1.90456224 -1.17750524] with reward: -8.1417236328125\n",
      "[ 1.93804918 -1.2283717 ]\n",
      "[[ 0.00137658 -0.00046194]\n",
      " [-0.00046194  0.00155837]]\n",
      "Episode 10\tAverage Score: -8.15\n"
     ]
    },
    {
     "data": {
      "image/png": "[encoded data removed]",
      "text/plain": [
       "<Figure size 800x400 with 1 Axes>"
      ]
     },
     "metadata": {
      "needs_background": "light"
     },
     "output_type": "display_data"
    },
    {
     "name": "stdout",
     "output_type": "stream",
     "text": [
      "[ 1.97426082 -1.28378543] with reward: -8.154052734375\n",
      "[ 1.9230983  -1.24913106]\n",
      "[[ 2.75406444e-04 -8.74948040e-05]\n",
      " [-8.74948040e-05  9.14373455e-05]]\n",
      "Episode 15\tAverage Score: -8.16\n"
     ]
    },
    {
     "data": {
      "image/png": "[encoded data removed]",
      "text/plain": [
       "<Figure size 800x400 with 1 Axes>"
      ]
     },
     "metadata": {
      "needs_background": "light"
     },
     "output_type": "display_data"
    },
    {
     "name": "stdout",
     "output_type": "stream",
     "text": [
      "[ 1.90779074 -1.24314187] with reward: -8.1712646484375\n",
      "[ 1.9281248  -1.24059508]\n",
      "[[ 8.51700988e-05 -1.22422042e-05]\n",
      " [-1.22422042e-05  1.60673320e-05]]\n",
      "Episode 20\tAverage Score: -8.16\n"
     ]
    },
    {
     "data": {
      "image/png": "[encoded data removed]",
      "text/plain": [
       "<Figure size 800x400 with 1 Axes>"
      ]
     },
     "metadata": {
      "needs_background": "light"
     },
     "output_type": "display_data"
    },
    {
     "name": "stdout",
     "output_type": "stream",
     "text": [
      "[ 1.92887122 -1.24502357] with reward: -8.1798095703125\n",
      "[ 1.93134304 -1.24318022]\n",
      "[[ 2.90596709e-05 -9.91067490e-06]\n",
      " [-9.91067490e-06  3.90734237e-06]]\n",
      "Episode 25\tAverage Score: -8.16\n"
     ]
    },
    {
     "data": {
      "image/png": "[encoded data removed]",
      "text/plain": [
       "<Figure size 800x400 with 1 Axes>"
      ]
     },
     "metadata": {
      "needs_background": "light"
     },
     "output_type": "display_data"
    },
    {
     "name": "stdout",
     "output_type": "stream",
     "text": [
      "[ 1.93032219 -1.24389563] with reward: -8.1397705078125\n",
      "[ 1.93456198 -1.2441518 ]\n",
      "[[ 1.15331894e-05 -3.18789070e-06]\n",
      " [-3.18789070e-06  1.05933957e-06]]\n",
      "Episode 30\tAverage Score: -8.16\n"
     ]
    },
    {
     "data": {
      "image/png": "[encoded data removed]",
      "text/plain": [
       "<Figure size 800x400 with 1 Axes>"
      ]
     },
     "metadata": {
      "needs_background": "light"
     },
     "output_type": "display_data"
    },
    {
     "name": "stdout",
     "output_type": "stream",
     "text": [
      "[ 1.93367239 -1.24394269] with reward: -8.159912109375\n"
     ]
    }
   ],
   "source": [
    "scores, best_weight = cem(calculate=expectation)"
   ]
  },
  {
   "cell_type": "code",
   "execution_count": 14,
   "metadata": {},
   "outputs": [
    {
     "name": "stdout",
     "output_type": "stream",
     "text": [
      "0111011010:\n",
      "  count: 9, max cut score: 9 \n",
      "1001101001:\n",
      "  count: 9, max cut score: 11 \n",
      "0000110111:\n",
      "  count: 9, max cut score: 8 \n",
      "1110011000:\n",
      "  count: 9, max cut score: 10 \n",
      "0000100111:\n",
      "  count: 10, max cut score: 9 \n",
      "0111001010:\n",
      "  count: 12, max cut score: 8 \n",
      "1111011000:\n",
      "  count: 13, max cut score: 9 \n",
      "1000100101:\n",
      "  count: 16, max cut score: 9 \n"
     ]
    }
   ],
   "source": [
    "backend = QasmSimulator()\n",
    "qc_res = create_qaoa_circ(G, best_weight)\n",
    "\n",
    "counts = backend.run(qc_res, seed_simulator=10, shots=1024).result().get_counts()\n",
    "\n",
    "for item in sorted(counts.items(), key=lambda item: item[1])[-8:]:\n",
    "    print(f'{item[0]}:\\n  count: {item[1]}, max cut score: {maxcut_obj(item[0], G)} ')"
   ]
  },
  {
   "cell_type": "code",
   "execution_count": null,
   "metadata": {},
   "outputs": [],
   "source": []
  }
 ],
 "metadata": {
  "interpreter": {
   "hash": "3dca393fb93075eb34c4c576f4ebcbc504fe769037e6c6879093289a036c4f23"
  },
  "kernelspec": {
   "display_name": "Python 3.10.4 ('venv': venv)",
   "language": "python",
   "name": "python3"
  },
  "language_info": {
   "codemirror_mode": {
    "name": "ipython",
    "version": 3
   },
   "file_extension": ".py",
   "mimetype": "text/x-python",
   "name": "python",
   "nbconvert_exporter": "python",
   "pygments_lexer": "ipython3",
   "version": "3.10.4"
  },
  "orig_nbformat": 4
 },
 "nbformat": 4,
 "nbformat_minor": 2
}
